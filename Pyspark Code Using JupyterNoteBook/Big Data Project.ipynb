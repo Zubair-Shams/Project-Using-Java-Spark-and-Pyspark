{
 "cells": [
  {
   "cell_type": "markdown",
   "id": "fced1be6-ead7-4050-b907-dc5d4cc386d4",
   "metadata": {},
   "source": [
    "## Big Data Analytics Final Project"
   ]
  },
  {
   "cell_type": "code",
   "execution_count": 5,
   "id": "e4cd18b5-e99b-4b49-88ce-ae1ab626ccdf",
   "metadata": {},
   "outputs": [],
   "source": [
    "import pandas as pd\n",
    "import matplotlib.pyplot as plt\n",
    "plt.style.use(\"seaborn\")\n",
    "from math import sqrt"
   ]
  },
  {
   "cell_type": "code",
   "execution_count": 498,
   "id": "5b2ba9f9-bd7d-4e9f-80ee-aebd4208d067",
   "metadata": {},
   "outputs": [],
   "source": [
    "import findspark\n",
    "findspark.init()\n",
    "from pyspark.mllib.clustering import KMeans\n",
    "from pyspark.sql import SparkSession\n",
    "\n",
    "from pyspark.sql.functions import unix_timestamp\n",
    "import pyspark.sql.functions as f"
   ]
  },
  {
   "cell_type": "code",
   "execution_count": 499,
   "id": "cd438a2c-2259-4d18-aa37-07391ac71546",
   "metadata": {},
   "outputs": [],
   "source": [
    "sc = SparkSession.builder \\\n",
    "    .master(\"local[1]\") \\\n",
    "    .appName(\"SparkByExamples.com\") \\\n",
    "    .getOrCreate()"
   ]
  },
  {
   "cell_type": "code",
   "execution_count": 509,
   "id": "51b1554b-c857-4cf2-87ce-91f2f273c0d3",
   "metadata": {},
   "outputs": [],
   "source": [
    "df_csv = sc.read.csv('cases_by_status_and_phu.csv', header=True, inferSchema=True)"
   ]
  },
  {
   "cell_type": "code",
   "execution_count": 262,
   "id": "e34b0c4a-cd7c-493c-b4e9-845f1c189c5c",
   "metadata": {},
   "outputs": [
    {
     "name": "stdout",
     "output_type": "stream",
     "text": [
      "+---------+---------------------------------------+-------+------------+--------------+------+\n",
      "|FILE_DATE|PHU_NAME                               |PHU_NUM|ACTIVE_CASES|RESOLVED_CASES|DEATHS|\n",
      "+---------+---------------------------------------+-------+------------+--------------+------+\n",
      "|20200410 |HALIBURTON, KAWARTHA, PINE RIDGE       |2235   |23          |69            |18    |\n",
      "|20200410 |HALTON REGION                          |2236   |112         |137           |9     |\n",
      "|20200410 |HASTINGS & PRINCE EDWARD COUNTIES      |2238   |12          |11            |1     |\n",
      "|20200410 |HURON PERTH                            |5183   |20          |8             |1     |\n",
      "|20200410 |KINGSTON, FRONTENAC, LENNOX & ADDINGTON|2241   |13          |39            |0     |\n",
      "|20200410 |LAMBTON COUNTY                         |2242   |65          |26            |9     |\n",
      "|20200410 |LEEDS, GRENVILLE AND LANARK DISTRICT   |2243   |102         |36            |8     |\n",
      "|20200410 |MIDDLESEX-LONDON                       |2244   |109         |53            |8     |\n",
      "|20200410 |NIAGARA REGION                         |2246   |91          |95            |12    |\n",
      "|20200410 |NORTH BAY PARRY SOUND DISTRICT         |2247   |2           |4             |0     |\n",
      "|20200410 |NORTHWESTERN                           |2249   |1           |8             |0     |\n",
      "|20200410 |OXFORD ELGIN-ST.THOMAS                 |4913   |13          |13            |2     |\n",
      "|20200410 |PEEL REGION                            |2253   |575         |222           |14    |\n",
      "|20200410 |PETERBOROUGH COUNTY-CITY               |2255   |14          |36            |0     |\n",
      "|20200410 |PORCUPINE                              |2256   |21          |15            |2     |\n",
      "|20200410 |RENFREW COUNTY AND DISTRICT            |2257   |5           |6             |1     |\n",
      "|20200410 |SIMCOE MUSKOKA DISTRICT                |2260   |64          |51            |5     |\n",
      "|20200410 |SUDBURY AND DISTRICT                   |2261   |8           |19            |1     |\n",
      "|20200410 |THUNDER BAY DISTRICT                   |2262   |15          |7             |0     |\n",
      "|20200410 |TIMISKAMING                            |2263   |4           |3             |0     |\n",
      "+---------+---------------------------------------+-------+------------+--------------+------+\n",
      "only showing top 20 rows\n",
      "\n"
     ]
    }
   ],
   "source": [
    "df_csv.show(20,False)"
   ]
  },
  {
   "cell_type": "code",
   "execution_count": 406,
   "id": "8722a400-a236-45f3-aafa-fccbfb602d71",
   "metadata": {},
   "outputs": [],
   "source": [
    "df_json = sc.read.option(\"multiline\",\"true\") \\\n",
    "      .json(\"phu_locations.json\")"
   ]
  },
  {
   "cell_type": "code",
   "execution_count": 407,
   "id": "9ec4ab16-3597-4d5d-a0e7-7d443545cc99",
   "metadata": {},
   "outputs": [
    {
     "name": "stdout",
     "output_type": "stream",
     "text": [
      "root\n",
      " |-- PHU: string (nullable = true)\n",
      " |-- PHU_fr: string (nullable = true)\n",
      " |-- accessible: string (nullable = true)\n",
      " |-- active: string (nullable = true)\n",
      " |-- additional_information: string (nullable = true)\n",
      " |-- additional_information_fr: string (nullable = true)\n",
      " |-- address: string (nullable = true)\n",
      " |-- address_fr: string (nullable = true)\n",
      " |-- after_hours: string (nullable = true)\n",
      " |-- age_threshold: string (nullable = true)\n",
      " |-- appointments: string (nullable = true)\n",
      " |-- asl_interpretation: string (nullable = true)\n",
      " |-- assessment_centre: string (nullable = true)\n",
      " |-- children_under_2: string (nullable = true)\n",
      " |-- city: string (nullable = true)\n",
      " |-- community_lab: string (nullable = true)\n",
      " |-- drive_through: string (nullable = true)\n",
      " |-- email: string (nullable = true)\n",
      " |-- first_nations: string (nullable = true)\n",
      " |-- free_parking: string (nullable = true)\n",
      " |-- french_language_services: string (nullable = true)\n",
      " |-- friday: string (nullable = true)\n",
      " |-- general_population: string (nullable = true)\n",
      " |-- latitude: string (nullable = true)\n",
      " |-- location_id: string (nullable = true)\n",
      " |-- location_name: string (nullable = true)\n",
      " |-- location_name_fr: string (nullable = true)\n",
      " |-- longitude: string (nullable = true)\n",
      " |-- monday: string (nullable = true)\n",
      " |-- online_appointments: string (nullable = true)\n",
      " |-- operated_by: string (nullable = true)\n",
      " |-- operated_by_fr: string (nullable = true)\n",
      " |-- paid_parking: string (nullable = true)\n",
      " |-- pharmacy: string (nullable = true)\n",
      " |-- phone: string (nullable = true)\n",
      " |-- phone_appointments: string (nullable = true)\n",
      " |-- phu_id: string (nullable = true)\n",
      " |-- postal_code: string (nullable = true)\n",
      " |-- province: string (nullable = true)\n",
      " |-- public_transit: string (nullable = true)\n",
      " |-- saturday: string (nullable = true)\n",
      " |-- sunday: string (nullable = true)\n",
      " |-- symptomatic: string (nullable = true)\n",
      " |-- temporarily_closed: string (nullable = true)\n",
      " |-- thursday: string (nullable = true)\n",
      " |-- tuesday: string (nullable = true)\n",
      " |-- walk_ins: string (nullable = true)\n",
      " |-- website: string (nullable = true)\n",
      " |-- wednesday: string (nullable = true)\n",
      " |-- weeks_pregnant: string (nullable = true)\n",
      "\n"
     ]
    }
   ],
   "source": [
    "df_json.printSchema()"
   ]
  },
  {
   "cell_type": "code",
   "execution_count": 409,
   "id": "b03be99d-dc1f-4688-94df-48a4d16c5484",
   "metadata": {
    "tags": []
   },
   "outputs": [
    {
     "name": "stdout",
     "output_type": "stream",
     "text": [
      "+--------------------------------------+------------------------------------------------------+----------+------+----------------------------------------------------------------------------------------------------------------------------------------------------------------------------------------------------------------------------------------------------------------------------------------------------------------------------------------------------------------------------------------------------------------------------------------------------------------------------+----------------------------------------------------------------------------------------------+----------------------------+--------------------------+-----------+-------------+------------+------------------+-----------------+----------------+-------------+-------------+-------------+-----+-------------+------------+------------------------+------------+------------------+---------+-----------+---------------------------------------------------------------+------------------------------------------+----------+------------+---------------------------------------------------------------------------------------------------------------------------------------------------+-----------------------------------+-------------------------------------+------------+--------+----------------------+------------------+------+-------------+--------+--------------+-----------+------------+-----------+------------------+------------+------------+--------+--------------------------------------------------------------------------------------+------------+--------------+\n",
      "|PHU                                   |PHU_fr                                                |accessible|active|additional_information                                                                                                                                                                                                                                                                                                                                                                                                                                                      |additional_information_fr                                                                     |address                     |address_fr                |after_hours|age_threshold|appointments|asl_interpretation|assessment_centre|children_under_2|city         |community_lab|drive_through|email|first_nations|free_parking|french_language_services|friday      |general_population|latitude |location_id|location_name                                                  |location_name_fr                          |longitude |monday      |online_appointments                                                                                                                                |operated_by                        |operated_by_fr                       |paid_parking|pharmacy|phone                 |phone_appointments|phu_id|postal_code  |province|public_transit|saturday   |sunday      |symptomatic|temporarily_closed|thursday    |tuesday     |walk_ins|website                                                                               |wednesday   |weeks_pregnant|\n",
      "+--------------------------------------+------------------------------------------------------+----------+------+----------------------------------------------------------------------------------------------------------------------------------------------------------------------------------------------------------------------------------------------------------------------------------------------------------------------------------------------------------------------------------------------------------------------------------------------------------------------------+----------------------------------------------------------------------------------------------+----------------------------+--------------------------+-----------+-------------+------------+------------------+-----------------+----------------+-------------+-------------+-------------+-----+-------------+------------+------------------------+------------+------------------+---------+-----------+---------------------------------------------------------------+------------------------------------------+----------+------------+---------------------------------------------------------------------------------------------------------------------------------------------------+-----------------------------------+-------------------------------------+------------+--------+----------------------+------------------+------+-------------+--------+--------------+-----------+------------+-----------+------------------+------------+------------+--------+--------------------------------------------------------------------------------------+------------+--------------+\n",
      "|Timiskaming Health Unit               |Services de santé du Timiskaming                      |Yes       |Yes   |null                                                                                                                                                                                                                                                                                                                                                                                                                                                                        |null                                                                                          |145 Government Road East    |145 chemin Government Est |Yes        |null         |Yes         |null              |Yes              |                |Kirkland Lake|null         |Yes          |null |null         |null        |null                    |09:00-13:00 |null              |48.153552|1          |Kirkland and District Hospital                                 |Kirkland and District Hospital            |-80.014725|09:00-13:00 |null                                                                                                                                               |Kirkland Lake Hospital             |Kirkland Hospital                    |null        |null    |705-568-2127          |null              |1     |P2N 3P4      |ON      |null          |null       |null        |Yes        |null              |09:00-13:00 |09:00-13:00 |No      |                                                                                      |09:00-13:00 |null          |\n",
      "|Simcoe Muskoka District Health Unit   |Bureau de santé publique du district de Simcoe-Muskoka|Yes       |Yes   |Located in the back parking lot Royal Canadian Legion, so please use the Erie Street entrance, NOT the Ontario Street Entrance. There is no parking fee.  Please use the wait list app on www.gbfht.ca/cac or call to schedule an appointment                                                                                                                                                                                                                               |Situé dans la tente dans le stationnement de l’Équipe de Santé Familiale, à côté de l’hôpital.|490 Ontario Street          |null                      |null       |0m           |Yes         |No                |Yes              |                |Collingwood  |null         |Yes          |null |null         |Yes         |No                      |09:00-17:00 |null              |44.503928|2          |South Georgian Bay Regional Assessment Centre                  |null                                      |-80.201516|09:00-17:00 |https://gbfht.ca/cac/                                                                                                                              |Georgian Bay Family Health Team    |null                                 |null        |null    |705-444-5885          |TRUE              |2     |L9Y 1N6      |ON      |Yes           |           |            |Yes        |null              |09:00-17:00 |09:00-17:00 |No      |http://www.gbfht.ca/cac                                                               |09:00-17:00 |null          |\n",
      "|Simcoe Muskoka District Health Unit   |Bureau de santé publique du district de Simcoe-Muskoka|Yes       |Yes   |Please call to schedule an appointment after completing the self-assessment tool on the hospital's website. Appointments for swabbing can be booked via phone by calling 705-529-1025 Monday to Friday 8:00 am to 6:00 pm.  Follow signs/directional signs to the entrance. Clients will see a greeter at the door when they pull up into the parking lot                                                                                                                   |null                                                                                          |1156 St. Andrews Drive      |null                      |null       |0m           |Yes         |No                |Yes              |                |Midland      |null         |No           |null |null         |Yes         |Yes                     |08:00-16:00 |null              |44.741840|3          |Midland Assessment Centre                                      |Midland Assessment Centre                 |-79.912455|08:00-16:00 |null                                                                                                                                               |Georgian Bay General Hospital      |Hôpital général de la baie Georgienne|null        |null    |705-529-1025          |null              |2     |L4R 4P4      |ON      |Yes           |08:00-16:00|null        |Yes        |null              |08:00-20:00 |08:00-20:00 |No      |http://gbgh.on.ca/covid-19-novel-coronavirus-updates/                                 |08:00-16:00 |null          |\n",
      "|Halton Region Health Department       |Service de santé de la région d'Halton                |Yes       |Yes   |Arrive at scheduled time (no more than 5 minutes early) to the Outpatient Entrance of Milton District Hospital. This is the entrance facing Bronte Street and is marked with yellow flags. Further specific details are provided when appointment is booked.                                                                                                                                                                                                                |null                                                                                          |725 Bronte Street South     |725 rue Bronte Sud        |null       |0m           |Yes         |No                |Yes              |                |Milton       |null         |No           |null |null         |Yes         |No                      |08:00-17:00 |null              |43.497418|4          |Milton District Hospital                                       |Hôpital du district de Milton             |-79.868476|08:00-17:00 |https://www.haltonhealthcare.on.ca/covid-19-info/booking-a-test                                                                                    |Halton Healthcare Services         |Halton Healthcare Services           |null        |null    |905-203-7963          |TRUE              |3     |L9T 9K1      |ON      |Yes           |08:00-17:00|08:00-17:00 |Yes        |null              |08:00-17:00 |08:00-17:00 |No      |https://www.haltonhealthcare.on.ca/covid-19-info/covid-19-testing                     |08:00-17:00 |null          |\n",
      "|Halton Region Health Department       |Service de santé de la région d'Halton                |Yes       |Yes   |Arrive at scheduled time (no more than 5 minutes early) to the South Entrance of Oakville Trafalgar Memorial Hospital. This is the entrance facing Dundas Street and is marked with multi-coloured flags. Do not enter via the Emergency Department. Further specific details are provided when appointment is booked.                                                                                                                                                      |null                                                                                          |3001 Hospital Gate          |3001 Hospital Gate        |null       |0m           |Yes         |No                |Yes              |                |Oakville     |null         |No           |null |null         |Yes         |No                      |08:00-20:00 |null              |43.450869|5          |Oakville Trafalgar Memorial Hospital                           |Oakville Trafalger Memorial Hospital      |-79.763927|08:00-20:00 |https://www.haltonhealthcare.on.ca/covid-19-info/booking-a-test                                                                                    |Halton Healthcare Services         |Halton Healthcare Services           |null        |null    |905-203-7963          |TRUE              |3     |L6M 0L8      |ON      |Yes           |08:00-20:00|08:00-20:00 |Yes        |null              |08:00-20:00 |08:00-20:00 |No      |https://www.haltonhealthcare.on.ca/covid-19-info/covid-19-testing                     |08:00-20:00 |null          |\n",
      "|Halton Region Health Department       |Service de santé de la région d'Halton                |Yes       |No    |Arrive at scheduled time (no more than 5 minutes early) to the mobile testing centre located at rear of Georgetown Hospital. Further specific details are provided when appointment is booked.                                                                                                                                                                                                                                                                              |null                                                                                          |1 Princess Anne Drive       |1 chemin Princess Anne    |null       |0m           |Yes         |No                |Yes              |                |Georgetown   |null         |No           |null |null         |Yes         |No                      |null        |null              |43.644985|6          |Georgetown Hospital                                            |Hôpital de Georgetown                     |-79.933321|null        |https://www.haltonhealthcare.on.ca/covid-19-info/booking-a-test                                                                                    |Halton Healthcare Services         |Halton Healthcare Services           |null        |null    |905-203-7963          |TRUE              |3     |L7G 2B8      |ON      |Yes           |08:00-16:00|null        |Yes        |null              |null        |null        |No      |https://www.haltonhealthcare.on.ca/covid-19-info/covid-19-testing                     |08:00-16:00 |null          |\n",
      "|Wellington-Dufferin-Guelph Health Unit|Bureau de santé publique de Wellington-Dufferin-Guelph|No        |Yes   |Please call 1-833-442-2001 between the hours of 8:30 am and 4:30 pm daily to book an appointment.  Located beside the Emergency Department.  Last patient is seen at 9:40 pm.  For children under 2 years of age and requiring COVID-19 testing, please visit the Emergency Department. \\r\\n\\r\\nAppointment and location details: Appointment only.  Call or go online at www.headwatershealth.ca to book an appointment.  No drive through available.  Near public transit.|null                                                                                          |100 Rolling Hills Drive     |100 chemin Rolling Hills  |null       |2y           |Yes         |No                |Yes              |                |Orangeville  |null         |No           |null |null         |null        |No                      |10:00-22:00 |null              |43.920776|7          |Headwaters Health Care Centre                                  |Headwaters Health Care Centre             |-80.072523|10:00-22:00 |null                                                                                                                                               |Headwaters Health Care Centre      |Headwaters Health Care Centre        |Yes         |null    |833-442-2001          |TRUE              |4     |L9W 4X9      |ON      |Yes           |10:00-22:00|10:00-22:00 |Yes        |null              |10:00-22:00 |10:00-22:00 |No      |https://www.headwatershealth.ca/                                                      |10:00-22:00 |null          |\n",
      "|York Region Public Health Services    |Service de santé de la région de York                 |null      |Yes   |null                                                                                                                                                                                                                                                                                                                                                                                                                                                                        |null                                                                                          |10 Trench Street            |10 rue Trench             |null       |6m           |Yes         |null              |Yes              |                |Richmond Hill|null         |No           |null |null         |null        |null                    |10:00-21:30 |null              |43.870017|8          |MacKenzie Health                                               |MacKenzie Health                          |-79.450278|10:00-21:30 |null                                                                                                                                               |MacKenzie Health                   |MacKenzie Health                     |null        |null    |905-883-1212 ext. 2004|null              |5     |L4C 4Z3      |ON      |null          |10:00-17:30|10:00-17:30 |Yes        |null              |10:00-21:30 |10:00-21:30 |No      |https://www.mackenziehealth.ca/en/about-us/get-the-latest-information-on-covid-19.aspx|10:00-21:30 |20            |\n",
      "|York Region Public Health Services    |Service de santé de la région de York                 |Yes       |Yes   | We do swab all ages at our assessment center.                                                                                                                                                                                                                                                                                                                                                                                                                              |null                                                                                          |381 Church Street           |381 rue Church            |null       |0m           |Yes         |No                |Yes              |                |Markham      |null         |No           |null |null         |null        |No                      |09:00-19:00 |null              |43.884138|9          |Markham Stouffville Hospital                                   |Hôpital de Markham-Stouffville            |-79.231961|09:00-19:00 |https://www.msh.on.ca/clinics-departments/covid-19-assessment-centre#registration                                                                  |Markham Stouffville Hospital       |Hôpital de Markham-Stouffville       |Yes         |null    |null                  |null              |5     |L3P 7P3      |ON      |Yes           |09:00-17:00|09:00-17:00 |Yes        |null              |09:00-19:00 |09:00-19:00 |No      |https://www.msh.on.ca/                                                                |09:00-19:00 |null          |\n",
      "|Simcoe Muskoka District Health Unit   |Bureau de santé publique du district de Simcoe-Muskoka|Yes       |null  |null                                                                                                                                                                                                                                                                                                                                                                                                                                                                        |null                                                                                          |131 Wellington Street       |131 rue Wellington        |null       |0m           |Yes         |No                |Yes              |                |Bracebridge  |null         |Yes          |null |null         |Yes         |No                      |09:00-17:00 |Yes               |45.037419|10         |Bracebridge Rotary Centre                                      |Bracebridge Rotary Centre                 |-79.318023|09:00-17:00 |null                                                                                                                                               |Muskoka Algonquin Healthcare       |Muskoka Algonquin Healthcare         |null        |null    |888-383-7009          |null              |2     |P1L 1E2      |ON      |No            |           |            |Yes        |Yes               |09:00-17:00 |09:00-17:00 |No      |https://www.mahc.ca/en/services/covid19.aspx#                                         |09:00-17:00 |null          |\n",
      "|Simcoe Muskoka District Health Unit   |Bureau de santé publique du district de Simcoe-Muskoka|Yes       |null  |null                                                                                                                                                                                                                                                                                                                                                                                                                                                                        |null                                                                                          |100 Frank Miller Drive      |100 chemin Frank Miller   |null       |0m           |Yes         |No                |Yes              |                |Huntsville   |null         |Yes          |null |null         |Yes         |No                      |09:00-17:00 |Yes               |45.339214|11         |Huntsville District Memorial Hospital                          |Hôpital Memorial du district de Huntsville|-79.205680|09:00-17:00 |null                                                                                                                                               |Muskoka Algonquin Healthcare       |Muskoka Algonquin Healthcare         |null        |null    |888-383-7009          |null              |2     |P1H 1H7      |ON      |No            |           |            |Yes        |Yes               |09:00-17:00 |09:00-17:00 |No      |https://www.mahc.ca/en/services/covid19.aspx#                                         |09:00-17:00 |null          |\n",
      "|Simcoe Muskoka District Health Unit   |Bureau de santé publique du district de Simcoe-Muskoka|Yes       |Yes   |Appointments can also be booked by calling 1-888-589-4109 from 8 am to 4 pm.\\r\\r\\nhttps://www.osmh.on.ca/covid-19/\\r\\r\\nDo not enter Rotary Place at the main entrance. Follow the signs and access the Assessment Centre through the dedicated entrance at the side of the building.  Please follow the directions for exiting the building.\\r\\r\\n                                                                                                                         |null                                                                                          |100 University Avenue       |null                      |null       |0m           |Yes         |No                |Yes              |                |Orillia      |null         |No           |null |null         |Yes         |No                      |11:00-18:30 |Yes               |44.589157|12         |Orillia Soldiers' Memorial Hospital                            |Hôpital Soldiers' Memorial d'Orillial     |-79.455401|11:00-18:30 |https://outlook.office365.com/owa/calendar/COVIDAssessment@osmh.on.ca/bookings/                                                                    |Orillia Soldiers' Memorial Hospital|Hôpital Soldiers' Memorial d'Orillial|null        |null    |888-589-4109          |null              |2     |L3V 6H2\\r\\r\\n|ON      |Yes           |11:00-14:30|11:00-14:30 |Yes        |null              |11:00-18:30 |11:00-18:30 |No      |https://www.osmh.on.ca/covid-19/                                                      |11:00-18:30 |null          |\n",
      "|Simcoe Muskoka District Health Unit   |Bureau de santé publique du district de Simcoe-Muskoka|Yes       |Yes   |Located in the rear building behind the Huronia Urgent Care Clinic.\\r\\nhttps://v2.waitwhile.com/book/barriecovidtesting                                                                                                                                                                                                                                                                                                                                                     |null                                                                                          |490 Huronia Road            |490 chemin Huronia        |null       |0m           |Yes         |No                |Yes              |                |Barrie       |null         |No           |null |null         |Yes         |No                      |08:30-16:30 |null              |44.347160|13         |Barrie Community Health Centre                                 |Barrie Community Health Centre            |-79.665693|08:30-16:30 |https://v2.waitwhile.com/book/barriecovidtesting                                                                                                   |Barrie Community Health Centre     |Barrie Community Health Centre       |null        |null    |null                  |null              |2     |L4N 6M2      |ON      |Yes           |null       |null        |Yes        |null              |08:30-16:30 |08:30-16:30 |No      |https://barriehealth.ca/                                                              |08:30-16:30 |null          |\n",
      "|York Region Public Health Services    |Service de santé de la région de York                 |Yes       |Yes   |The assessment centre is located in the Town of Newmarket’s Seniors’ Meeting place. Park at the rear of the building follow signs to entrance.  Call 289-803-2199 to book an appointment.                                                                                                                                                                                                                                                                                   |null                                                                                          |474 Davis Drive             |474 chemin Davis          |null       |0m           |Yes         |Yes               |Yes              |                |Newmarket    |null         |No           |null |null         |null        |Yes                     |08:00-21:00 |null              |44.059290|14         |Southlake Regional Health Centre                               |Southlake Regional Health Centre          |-79.458347|08:00-21:00 |null                                                                                                                                               |Southlake Regional Health Centre   |Southlake Regional Health Centre     |Yes         |null    |289-803-2199          |TRUE              |5     |L3Y 2P3      |ON      |Yes           |08:00-21:00|08:00-21:00 |Yes        |null              |08:00-21:00 |08:00-21:00 |Yes     |https://southlake.ca/                                                                 |08:00-21:00 |null          |\n",
      "|Simcoe Muskoka District Health Unit   |Bureau de santé publique du district de Simcoe-Muskoka|Yes       |Yes   |Please call 249-501-0383 to book an appointment. \\r\\nDrive-through centre located in the back parking lot.                                                                                                                                                                                                                                                                                                                                                                  |null                                                                                          |200 Fletcher Crescent       |200 Fletcher Crescent     |null       |2y           |Yes         |No                |Yes              |No              |Alliston     |null         |Yes          |null |null         |null        |No                      |09:00-17:00 |null              |44.155578|15         |Stevenson Memorial Hospital                                    |Hôpital Stevenson Memorial                |-79.875078|09:00-17:00 |null                                                                                                                                               |Stevenson Memorial Hospital        |Hôpital Stevenson Memorial           |Yes         |null    |249-501-0383          |null              |2     |L9R 1W7      |ON      |No            |           |            |Yes        |null              |09:00-17:00 |null        |No      |http://www.stevensonhospital.ca/news/index.html?id=265                                |09:00-17:00 |null          |\n",
      "|Peel Public Health                    |Bureau de santé de la région de Peel                  |Yes       |Yes   |null                                                                                                                                                                                                                                                                                                                                                                                                                                                                        |null                                                                                          |15 Bronte College Court     |15 Bronte College Court   |null       |1y           |Yes         |No                |Yes              |                |Mississauga  |null         |No           |null |null         |Yes         |No                      |08:30-19:30 |null              |43.572542|16         |Mississauga Hospital - Clinical Administrative Building        |null                                      |-79.606440|08:30-19:30 |https://trilliumhealthpartners.ca/covid-19/A/assessment.html#starthere                                                                             |Trillium Health Partners           |Trillium Health Partners             |null        |null    |                      |null              |6     |L5B 1M9      |ON      |Yes           |08:30-19:30|08:30-19:30 |Yes        |null              |08:30-19:30 |08:30-19:30 |No      |trilliumhealthpartners.ca/covid-19/A/assessment.html#starthere                        |08:30-19:30 |null          |\n",
      "|Peel Public Health                    |Bureau de santé de la région de Peel                  |Yes       |Yes   |\\r\\nDrive-through only.                                                                                                                                                                                                                                                                                                                                                                                                                                                     |null                                                                                          |2200 Eglinton Avenue West   |2200 chemin Eglinton Ouest|null       |18y          |Yes         |No                |Yes              |No              |Mississauga  |null         |Yes          |null |null         |Yes         |Yes                     |08:30-19:30 |null              |43.558655|17         |Credit Valley – Drive-Thru                                     |Hôpital Credit Valley - Drive-Thru        |-79.703279|08:30-19:30 |http://trilliumhealthpartners.ca/covid-19/A/assessment.html#starthere                                                                              |Trillium Health Partners           |Trillium Health Partners             |null        |null    |null                  |null              |6     |L5M 2N1      |ON      |Yes           |08:30-19:30|08:30-19:30 |Yes        |null              |08:30-19:30 |08:30-19:30 |No      |https://trilliumhealthpartners.ca/covid-19/A/assessment.html#starthere                |08:30-19:30 |null          |\n",
      "|Peel Public Health                    |Bureau de santé de la région de Peel                  |No        |No    |Book an appointment online at www.williamoslerhs.ca/coronavirus or Call this number for booking 905-487-1249, 8:00 am to 6:00 pm, 7 days a week.                                                                                                                                                                                                                                                                                                                            |null                                                                                          |2200 Eglinton Avenue West   |2200 chemin Eglinton Ouest|null       |null         |Yes         |No                |Yes              |                |Mississauga  |null         |No           |null |null         |Yes         |Yes                     |08:30-19:30 |null              |43.558655|18         |Credit Valley Hospital – Valley House                          |Credit Valley Hospital – Valley House     |-79.703279|08:30-19:30 |https://trilliumhealthpartners.ca/assessment                                                                                                       |Trillium Health Partners           |Trillium Health Partners             |null        |null    |                      |null              |6     |L5M 2N1      |ON      |Yes           |08:30-19:30|08:30-19:30 |Yes        |null              |08:30-19:30 |08:30-19:30 |No      |https://trilliumhealthpartners.ca/covid-19/A/assessment.html#starthere                |08:30-19:30 |null          |\n",
      "|Toronto Public Health                 |Bureau de santé de Toronto                            |Yes       |Yes   |Book appointments online at www.williamoslerhs.ca/coronavirus or call 905-487-1249 during 8:00 am to 6:00 pm,\\r\\n 7 days a week.                                                                                                                                                                                                                                                                                                                                            |null                                                                                          |101 Humber College Boulevard|null                      |null       |null         |Yes         |No                |Yes              |                |Etobicoke    |null         |No           |null |null         |Yes         |No                      |08:00-19:00 |null              |43.729001|19         |William Osler Health System - Etobicoke COVID 19 Testing Centre|null                                      |-79.597572|08:00-19:00 |https://www.williamoslerhs.ca/patients-and-families/preparing-for-your-visit-or-stay/coronavirus-information-for-patients-families/covid-19-booking|William Osler Health System        |William Osler Health System          |null        |null    |905-487-1249          |null              |6     |M9V 1R8      |ON      |Yes           |08:00-19:00|08:00-19:00 |Yes        |null              |08:00-19:00 |08:00-19:00 |No      |https://www.williamoslerhs.ca/coronavirus                                             |08:00-19:00 |null          |\n",
      "|Peel Public Health                    |Bureau de santé de la région de Peel                  |Yes       |Yes   |Book appointments online at www.williamoslerhs.ca/coronavirus or call 905-487-1249 during 8:00 am to 6:00 pm,\\r\\n 7 days a week.                                                                                                                                                                                                                                                                                                                                            |null                                                                                          |20 Lynch Street             |null                      |null       |2y           |Yes         |No                |Yes              |                |Brampton     |null         |No           |null |null         |Yes         |No                      |08:00- 18:00|null              |43.652793|20         |William Osler Health System - Brampton COVID 19 Testing Centre |null                                      |-79.735957|08:00- 18:00|https://www.williamoslerhs.ca/patients-and-families/preparing-for-your-visit-or-stay/coronavirus-information-for-patients-families/covid-19-booking|William Osler Health System        |William Osler Health System          |null        |null    |905-487-1249          |null              |6     |L6Y 5B3      |ON      |Yes           |08:00-18:00|08:00- 18:00|Yes        |null              |08:00- 18:00|08:00- 18:00|No      |https://www.williamoslerhs.ca/coronavirus                                             |08:00- 18:00|null          |\n",
      "+--------------------------------------+------------------------------------------------------+----------+------+----------------------------------------------------------------------------------------------------------------------------------------------------------------------------------------------------------------------------------------------------------------------------------------------------------------------------------------------------------------------------------------------------------------------------------------------------------------------------+----------------------------------------------------------------------------------------------+----------------------------+--------------------------+-----------+-------------+------------+------------------+-----------------+----------------+-------------+-------------+-------------+-----+-------------+------------+------------------------+------------+------------------+---------+-----------+---------------------------------------------------------------+------------------------------------------+----------+------------+---------------------------------------------------------------------------------------------------------------------------------------------------+-----------------------------------+-------------------------------------+------------+--------+----------------------+------------------+------+-------------+--------+--------------+-----------+------------+-----------+------------------+------------+------------+--------+--------------------------------------------------------------------------------------+------------+--------------+\n",
      "only showing top 20 rows\n",
      "\n"
     ]
    }
   ],
   "source": [
    "df_json.show(20,False)"
   ]
  },
  {
   "cell_type": "code",
   "execution_count": 410,
   "id": "4dc28669-dac4-41a4-807c-2587356eb13e",
   "metadata": {},
   "outputs": [
    {
     "name": "stdout",
     "output_type": "stream",
     "text": [
      "+---------------------------------------------------------------+\n",
      "|location_name                                                  |\n",
      "+---------------------------------------------------------------+\n",
      "|Kirkland and District Hospital                                 |\n",
      "|South Georgian Bay Regional Assessment Centre                  |\n",
      "|Midland Assessment Centre                                      |\n",
      "|Milton District Hospital                                       |\n",
      "|Oakville Trafalgar Memorial Hospital                           |\n",
      "|Georgetown Hospital                                            |\n",
      "|Headwaters Health Care Centre                                  |\n",
      "|MacKenzie Health                                               |\n",
      "|Markham Stouffville Hospital                                   |\n",
      "|Bracebridge Rotary Centre                                      |\n",
      "|Huntsville District Memorial Hospital                          |\n",
      "|Orillia Soldiers' Memorial Hospital                            |\n",
      "|Barrie Community Health Centre                                 |\n",
      "|Southlake Regional Health Centre                               |\n",
      "|Stevenson Memorial Hospital                                    |\n",
      "|Mississauga Hospital - Clinical Administrative Building        |\n",
      "|Credit Valley – Drive-Thru                                     |\n",
      "|Credit Valley Hospital – Valley House                          |\n",
      "|William Osler Health System - Etobicoke COVID 19 Testing Centre|\n",
      "|William Osler Health System - Brampton COVID 19 Testing Centre |\n",
      "+---------------------------------------------------------------+\n",
      "only showing top 20 rows\n",
      "\n"
     ]
    }
   ],
   "source": [
    "df_json.select(\"location_name\").show(20,False)"
   ]
  },
  {
   "cell_type": "code",
   "execution_count": 411,
   "id": "8f3c410d-7aef-4b77-9468-e8743b0a46f4",
   "metadata": {},
   "outputs": [
    {
     "name": "stdout",
     "output_type": "stream",
     "text": [
      "root\n",
      " |-- PHU: string (nullable = true)\n",
      " |-- PHU_fr: string (nullable = true)\n",
      " |-- accessible: string (nullable = true)\n",
      " |-- active: string (nullable = true)\n",
      " |-- additional_information: string (nullable = true)\n",
      " |-- additional_information_fr: string (nullable = true)\n",
      " |-- address: string (nullable = true)\n",
      " |-- address_fr: string (nullable = true)\n",
      " |-- after_hours: string (nullable = true)\n",
      " |-- age_threshold: string (nullable = true)\n",
      " |-- appointments: string (nullable = true)\n",
      " |-- asl_interpretation: string (nullable = true)\n",
      " |-- assessment_centre: string (nullable = true)\n",
      " |-- children_under_2: string (nullable = true)\n",
      " |-- city: string (nullable = true)\n",
      " |-- community_lab: string (nullable = true)\n",
      " |-- drive_through: string (nullable = true)\n",
      " |-- email: string (nullable = true)\n",
      " |-- first_nations: string (nullable = true)\n",
      " |-- free_parking: string (nullable = true)\n",
      " |-- french_language_services: string (nullable = true)\n",
      " |-- friday: string (nullable = true)\n",
      " |-- general_population: string (nullable = true)\n",
      " |-- latitude: string (nullable = true)\n",
      " |-- location_id: string (nullable = true)\n",
      " |-- location_name: string (nullable = true)\n",
      " |-- location_name_fr: string (nullable = true)\n",
      " |-- longitude: string (nullable = true)\n",
      " |-- monday: string (nullable = true)\n",
      " |-- online_appointments: string (nullable = true)\n",
      " |-- operated_by: string (nullable = true)\n",
      " |-- operated_by_fr: string (nullable = true)\n",
      " |-- paid_parking: string (nullable = true)\n",
      " |-- pharmacy: string (nullable = true)\n",
      " |-- phone: string (nullable = true)\n",
      " |-- phone_appointments: string (nullable = true)\n",
      " |-- phu_id: string (nullable = true)\n",
      " |-- postal_code: string (nullable = true)\n",
      " |-- province: string (nullable = true)\n",
      " |-- public_transit: string (nullable = true)\n",
      " |-- saturday: string (nullable = true)\n",
      " |-- sunday: string (nullable = true)\n",
      " |-- symptomatic: string (nullable = true)\n",
      " |-- temporarily_closed: string (nullable = true)\n",
      " |-- thursday: string (nullable = true)\n",
      " |-- tuesday: string (nullable = true)\n",
      " |-- walk_ins: string (nullable = true)\n",
      " |-- website: string (nullable = true)\n",
      " |-- wednesday: string (nullable = true)\n",
      " |-- weeks_pregnant: string (nullable = true)\n",
      "\n"
     ]
    }
   ],
   "source": [
    "df_json.printSchema()"
   ]
  },
  {
   "cell_type": "code",
   "execution_count": 412,
   "id": "d89ae405-949e-4943-9825-4b2d5343b859",
   "metadata": {},
   "outputs": [
    {
     "data": {
      "text/plain": [
       "DataFrame[PHU: string, PHU_fr: string, accessible: string, active: string, additional_information: string, additional_information_fr: string, address: string, address_fr: string, after_hours: string, age_threshold: string, appointments: string, asl_interpretation: string, assessment_centre: string, children_under_2: string, city: string, community_lab: string, drive_through: string, email: string, first_nations: string, free_parking: string, french_language_services: string, friday: string, general_population: string, latitude: string, location_id: string, location_name: string, location_name_fr: string, longitude: string, monday: string, online_appointments: string, operated_by: string, paid_parking: string, pharmacy: string, phone: string, phone_appointments: string, phu_id: string, postal_code: string, province: string, public_transit: string, saturday: string, sunday: string, symptomatic: string, temporarily_closed: string, thursday: string, tuesday: string, walk_ins: string, website: string, wednesday: string, weeks_pregnant: string]"
      ]
     },
     "execution_count": 412,
     "metadata": {},
     "output_type": "execute_result"
    }
   ],
   "source": [
    "df_json.drop(col(\"PHU_fr\"))\n",
    "df_json.drop(col(\"additional_information_fr\"))\n",
    "df_json.drop(col(\"address_fr\"))\n",
    "df_json.drop(col(\"location_name_fr\"))\n",
    "df_json.drop(col(\"operated_by_fr\"))"
   ]
  },
  {
   "cell_type": "code",
   "execution_count": 71,
   "id": "634a6af2-3517-45ff-8aac-13dad400fee5",
   "metadata": {},
   "outputs": [],
   "source": [
    "\n",
    "df_json.createOrReplaceTempView(\"locations\")"
   ]
  },
  {
   "cell_type": "markdown",
   "id": "d9457c8e-6aeb-4c33-98e8-0fc8a729251b",
   "metadata": {
    "tags": []
   },
   "source": [
    "# Question 1:"
   ]
  },
  {
   "cell_type": "markdown",
   "id": "23577c24-8fde-4c2a-b434-c869fe321533",
   "metadata": {},
   "source": [
    "List all PHU locations which are allow online appointments. List should not contain columns in\n",
    "French. All French columns have name ending with fr.\n"
   ]
  },
  {
   "cell_type": "markdown",
   "id": "11cca702-fc02-4e74-b889-808b4d456dae",
   "metadata": {},
   "source": [
    "We already removed the columns ending in Fr. We check some of the values of the online_appointmnent in the data frame."
   ]
  },
  {
   "cell_type": "code",
   "execution_count": 392,
   "id": "6294aa3d-4931-483e-b02b-b4395be70333",
   "metadata": {},
   "outputs": [
    {
     "name": "stdout",
     "output_type": "stream",
     "text": [
      "+---------------------------------------------------------------------------------------------------------------------------------------------------+\n",
      "|online_appointments                                                                                                                                |\n",
      "+---------------------------------------------------------------------------------------------------------------------------------------------------+\n",
      "|null                                                                                                                                               |\n",
      "|https://gbfht.ca/cac/                                                                                                                              |\n",
      "|null                                                                                                                                               |\n",
      "|https://www.haltonhealthcare.on.ca/covid-19-info/booking-a-test                                                                                    |\n",
      "|https://www.haltonhealthcare.on.ca/covid-19-info/booking-a-test                                                                                    |\n",
      "|https://www.haltonhealthcare.on.ca/covid-19-info/booking-a-test                                                                                    |\n",
      "|null                                                                                                                                               |\n",
      "|null                                                                                                                                               |\n",
      "|https://www.msh.on.ca/clinics-departments/covid-19-assessment-centre#registration                                                                  |\n",
      "|null                                                                                                                                               |\n",
      "|null                                                                                                                                               |\n",
      "|https://outlook.office365.com/owa/calendar/COVIDAssessment@osmh.on.ca/bookings/                                                                    |\n",
      "|https://v2.waitwhile.com/book/barriecovidtesting                                                                                                   |\n",
      "|null                                                                                                                                               |\n",
      "|null                                                                                                                                               |\n",
      "|https://trilliumhealthpartners.ca/covid-19/A/assessment.html#starthere                                                                             |\n",
      "|http://trilliumhealthpartners.ca/covid-19/A/assessment.html#starthere                                                                              |\n",
      "|https://trilliumhealthpartners.ca/assessment                                                                                                       |\n",
      "|https://www.williamoslerhs.ca/patients-and-families/preparing-for-your-visit-or-stay/coronavirus-information-for-patients-families/covid-19-booking|\n",
      "|https://www.williamoslerhs.ca/patients-and-families/preparing-for-your-visit-or-stay/coronavirus-information-for-patients-families/covid-19-booking|\n",
      "+---------------------------------------------------------------------------------------------------------------------------------------------------+\n",
      "only showing top 20 rows\n",
      "\n"
     ]
    }
   ],
   "source": [
    "df_json.select(\"online_appointments\").show(20,False)"
   ]
  },
  {
   "cell_type": "code",
   "execution_count": 413,
   "id": "aa01cb0e-0861-4d4a-800b-e04ed10d077c",
   "metadata": {},
   "outputs": [],
   "source": [
    "query='SELECT PHU, location_name as Location from locations where online_appointments IS NOT NULL'"
   ]
  },
  {
   "cell_type": "code",
   "execution_count": 414,
   "id": "1a310caf-ccfc-4131-8c76-8007d2d1d3a1",
   "metadata": {},
   "outputs": [
    {
     "name": "stdout",
     "output_type": "stream",
     "text": [
      "+------------------------------------------------------+------------------------------------------------------------------------------------+\n",
      "|PHU                                                   |Location                                                                            |\n",
      "+------------------------------------------------------+------------------------------------------------------------------------------------+\n",
      "|Simcoe Muskoka District Health Unit                   |South Georgian Bay Regional Assessment Centre                                       |\n",
      "|Halton Region Health Department                       |Milton District Hospital                                                            |\n",
      "|Halton Region Health Department                       |Oakville Trafalgar Memorial Hospital                                                |\n",
      "|Halton Region Health Department                       |Georgetown Hospital                                                                 |\n",
      "|York Region Public Health Services                    |Markham Stouffville Hospital                                                        |\n",
      "|Simcoe Muskoka District Health Unit                   |Orillia Soldiers' Memorial Hospital                                                 |\n",
      "|Simcoe Muskoka District Health Unit                   |Barrie Community Health Centre                                                      |\n",
      "|Peel Public Health                                    |Mississauga Hospital - Clinical Administrative Building                             |\n",
      "|Peel Public Health                                    |Credit Valley – Drive-Thru                                                          |\n",
      "|Peel Public Health                                    |Credit Valley Hospital – Valley House                                               |\n",
      "|Toronto Public Health                                 |William Osler Health System - Etobicoke COVID 19 Testing Centre                     |\n",
      "|Peel Public Health                                    |William Osler Health System - Brampton COVID 19 Testing Centre                      |\n",
      "|Ottawa Public Health                                  |COVID-19 CHEO Assessment Centre for Infants, Children and Youth at Brewer Park Arena|\n",
      "|Ottawa Public Health                                  |COVID-19 Assessment Centre for Adults at Brewer Park Arena                          |\n",
      "|Eastern Ontario Health Unit                           |Hawkesbury COVID-19 Assessment Centre                                               |\n",
      "|Eastern Ontario Health Unit                           |Rockland COVID-19 Assessment Centre                                                 |\n",
      "|Ottawa Public Health                                  |COVID-19 Care and Testing Centre – Heron                                            |\n",
      "|Kingston, Frontenac and Lennox & Addington Health Unit|Kingston Assessment Centre                                                          |\n",
      "|Durham Region Health Department                       |Lakeridge Health - Oshawa                                                           |\n",
      "|Durham Region Health Department                       |Lakeridge Health - Ajax Pickering                                                   |\n",
      "+------------------------------------------------------+------------------------------------------------------------------------------------+\n",
      "only showing top 20 rows\n",
      "\n"
     ]
    }
   ],
   "source": [
    "df_json = sc.sql(query)\n",
    "df_json.show(20,False)"
   ]
  },
  {
   "cell_type": "markdown",
   "id": "253dd814-db8b-4553-a85c-db8b35210a86",
   "metadata": {},
   "source": [
    "# Question 2:"
   ]
  },
  {
   "cell_type": "markdown",
   "id": "60f591e3-628e-46df-b97c-699e89a044d4",
   "metadata": {},
   "source": [
    "List all the PHU locations allow children under 2 in Brampton location."
   ]
  },
  {
   "cell_type": "code",
   "execution_count": 99,
   "id": "04f667f7-2189-4af2-a9b7-b59c9301684c",
   "metadata": {},
   "outputs": [],
   "source": [
    "query='SELECT PHU,location_name as Location, City from locations where children_under_2==\"Yes\" and city==\"Brampton\"'\n"
   ]
  },
  {
   "cell_type": "code",
   "execution_count": 102,
   "id": "daa04c71-0775-46f3-9592-034eef40cc49",
   "metadata": {},
   "outputs": [
    {
     "name": "stdout",
     "output_type": "stream",
     "text": [
      "+------------------+--------------------------------+--------+\n",
      "|PHU               |Location                        |City    |\n",
      "+------------------+--------------------------------+--------+\n",
      "|Peel Public Health|10 Cottrelle Blvd - Dynacare    |Brampton|\n",
      "|Peel Public Health|7700 Hurontario - Dynacare      |Brampton|\n",
      "|Peel Public Health|9525 Mississauga Road - Dynacare|Brampton|\n",
      "+------------------+--------------------------------+--------+\n",
      "\n"
     ]
    }
   ],
   "source": [
    "df_q2 = sc.sql(query)\n",
    "df_q2.show(20,False)"
   ]
  },
  {
   "cell_type": "markdown",
   "id": "d1983dbc-16ca-433d-8e4c-675737e98df6",
   "metadata": {},
   "source": [
    "As we see, the PHUs in Brmapton that allow children under the age of two is very limited."
   ]
  },
  {
   "cell_type": "markdown",
   "id": "7caec1ad-3980-4081-9fc9-f008d37b0731",
   "metadata": {},
   "source": [
    "# Question 3:"
   ]
  },
  {
   "cell_type": "markdown",
   "id": "08c64add-ec7e-4cce-bfbe-5d6199841993",
   "metadata": {},
   "source": [
    " List all the PHU locations in Toronto has free parking with drive through."
   ]
  },
  {
   "cell_type": "code",
   "execution_count": 121,
   "id": "b293bc16-11b7-4510-b233-53211773f865",
   "metadata": {},
   "outputs": [],
   "source": [
    "query='SELECT PHU,location_name as Location, City from locations where city==\"Toronto\" and free_parking==\"Yes\" and drive_through==\"Yes\"'\n"
   ]
  },
  {
   "cell_type": "code",
   "execution_count": 122,
   "id": "55805ad7-7870-48dd-b043-818bfa751f61",
   "metadata": {},
   "outputs": [
    {
     "name": "stdout",
     "output_type": "stream",
     "text": [
      "+---+--------+----+\n",
      "|PHU|Location|City|\n",
      "+---+--------+----+\n",
      "+---+--------+----+\n",
      "\n"
     ]
    }
   ],
   "source": [
    "df_q3 = sc.sql(query)\n",
    "df_q3.show(20,False)"
   ]
  },
  {
   "cell_type": "markdown",
   "id": "dc4b3d8a-dcb8-4eb2-8bd3-bba46855db0b",
   "metadata": {},
   "source": [
    "The query tells us there are no PHUs in toronto that offer free parking along with having a drive through."
   ]
  },
  {
   "cell_type": "markdown",
   "id": "9a261d4b-0988-4ebd-816e-ef87eda54a91",
   "metadata": {},
   "source": [
    "# Question 4:"
   ]
  },
  {
   "cell_type": "markdown",
   "id": "4ad23a62-d912-4246-98f7-499696fe9bc0",
   "metadata": {},
   "source": [
    "Find out number of PHUs are closed in each city on Friday"
   ]
  },
  {
   "cell_type": "code",
   "execution_count": 191,
   "id": "54ee1025-f8c7-48c6-9599-f0a50c281f7c",
   "metadata": {},
   "outputs": [
    {
     "name": "stdout",
     "output_type": "stream",
     "text": [
      "+------------+--------------------------------------+-------------+\n",
      "|friday      |PHU                                   |City         |\n",
      "+------------+--------------------------------------+-------------+\n",
      "|09:00-13:00 |Timiskaming Health Unit               |Kirkland Lake|\n",
      "|09:00-17:00 |Simcoe Muskoka District Health Unit   |Collingwood  |\n",
      "|08:00-16:00 |Simcoe Muskoka District Health Unit   |Midland      |\n",
      "|08:00-17:00 |Halton Region Health Department       |Milton       |\n",
      "|08:00-20:00 |Halton Region Health Department       |Oakville     |\n",
      "|null        |Halton Region Health Department       |Georgetown   |\n",
      "|10:00-22:00 |Wellington-Dufferin-Guelph Health Unit|Orangeville  |\n",
      "|10:00-21:30 |York Region Public Health Services    |Richmond Hill|\n",
      "|09:00-19:00 |York Region Public Health Services    |Markham      |\n",
      "|09:00-17:00 |Simcoe Muskoka District Health Unit   |Bracebridge  |\n",
      "|09:00-17:00 |Simcoe Muskoka District Health Unit   |Huntsville   |\n",
      "|11:00-18:30 |Simcoe Muskoka District Health Unit   |Orillia      |\n",
      "|08:30-16:30 |Simcoe Muskoka District Health Unit   |Barrie       |\n",
      "|08:00-21:00 |York Region Public Health Services    |Newmarket    |\n",
      "|09:00-17:00 |Simcoe Muskoka District Health Unit   |Alliston     |\n",
      "|08:30-19:30 |Peel Public Health                    |Mississauga  |\n",
      "|08:30-19:30 |Peel Public Health                    |Mississauga  |\n",
      "|08:30-19:30 |Peel Public Health                    |Mississauga  |\n",
      "|08:00-19:00 |Toronto Public Health                 |Etobicoke    |\n",
      "|08:00- 18:00|Peel Public Health                    |Brampton     |\n",
      "+------------+--------------------------------------+-------------+\n",
      "only showing top 20 rows\n",
      "\n"
     ]
    }
   ],
   "source": [
    "df_json.select(\"friday\",\"PHU\",\"City\").show(20,False)"
   ]
  },
  {
   "cell_type": "code",
   "execution_count": 192,
   "id": "8929e34d-ec50-47f9-a13d-81fe37256142",
   "metadata": {},
   "outputs": [],
   "source": [
    "query='SELECT COUNT(PHU), City from locations where friday is null group by City '\n"
   ]
  },
  {
   "cell_type": "code",
   "execution_count": 194,
   "id": "5a904d65-4e38-4df9-9608-342a7e419562",
   "metadata": {},
   "outputs": [
    {
     "name": "stdout",
     "output_type": "stream",
     "text": [
      "+----------+-----------------+\n",
      "|count(PHU)|City             |\n",
      "+----------+-----------------+\n",
      "|1         |Georgetown       |\n",
      "|1         |Sarnia           |\n",
      "|1         |Sunderland       |\n",
      "|1         |Orangeville      |\n",
      "|1         |Alexandria       |\n",
      "|1         |Arnprior         |\n",
      "|1         |Matheson         |\n",
      "|1         |Campbellford     |\n",
      "|1         |Maple            |\n",
      "|1         |Renfrew          |\n",
      "|1         |Harriston        |\n",
      "|1         |Fort Albany      |\n",
      "|1         |Malton           |\n",
      "|1         |Innisfil         |\n",
      "|5         |Toronto          |\n",
      "|1         |Barry's Bay      |\n",
      "|1         |Killaloe         |\n",
      "|1         |Terrace Bay      |\n",
      "|1         |Southampton      |\n",
      "|1         |Beaverton        |\n",
      "|1         |Smooth Rock Falls|\n",
      "|1         |Windsor          |\n",
      "|1         |Brampton         |\n",
      "|1         |Douglas          |\n",
      "|1         |East York        |\n",
      "|1         |North York       |\n",
      "+----------+-----------------+\n",
      "\n"
     ]
    }
   ],
   "source": [
    "df_q4 = sc.sql(query)\n",
    "df_q4.show(30,False)"
   ]
  },
  {
   "cell_type": "markdown",
   "id": "454e2336-b459-4444-b851-64790fc8fe4c",
   "metadata": {},
   "source": [
    "The results of the query are  mostly similar with one visible outlier being Toronto, where five PHUs are closed on Friday. "
   ]
  },
  {
   "cell_type": "markdown",
   "id": "b189e353-4c4c-4e30-b2dc-d4ec9a1043e6",
   "metadata": {},
   "source": [
    "# Question 5:"
   ]
  },
  {
   "cell_type": "markdown",
   "id": "d25bcef6-4904-4192-861b-60f1f8a86864",
   "metadata": {},
   "source": [
    "Find out all the PHU locations which are open during 20:00 and 21:00 on Monday in Toronto city"
   ]
  },
  {
   "cell_type": "code",
   "execution_count": 203,
   "id": "bfbab9c0-feea-4adb-b62a-ba65db2b9b14",
   "metadata": {},
   "outputs": [
    {
     "name": "stdout",
     "output_type": "stream",
     "text": [
      "+-----------+----------------------------------+-------+\n",
      "|monday     |PHU                               |City   |\n",
      "+-----------+----------------------------------+-------+\n",
      "|11:00-19:00|Toronto Public Health             |Toronto|\n",
      "|00:00-00:00|Toronto Public Health             |Toronto|\n",
      "|08:00-19:30|Toronto Public Health             |Toronto|\n",
      "|13:00-18:30|York Region Public Health Services|Toronto|\n",
      "|08:00-16:00|Toronto Public Health             |Toronto|\n",
      "|08:00-20:00|Toronto Public Health             |Toronto|\n",
      "|null       |Toronto Public Health             |Toronto|\n",
      "|09:00-19:30|Toronto Public Health             |Toronto|\n",
      "|08:00-20:00|Toronto Public Health             |Toronto|\n",
      "|08:00-20:00|Toronto Public Health             |Toronto|\n",
      "|08:00-18:00|Toronto Public Health             |Toronto|\n",
      "|08:30-19:30|Toronto Public Health             |Toronto|\n",
      "|08:00-00:00|Toronto Public Health             |Toronto|\n",
      "|08:00-22:00|Toronto Public Health             |Toronto|\n",
      "|08:00-00:00|Toronto Public Health             |Toronto|\n",
      "|08:00-22:00|Toronto Public Health             |Toronto|\n",
      "|08:00-00:00|Toronto Public Health             |Toronto|\n",
      "|07:00-22:00|Toronto Public Health             |Toronto|\n",
      "|09:00-19:00|Toronto Public Health             |Toronto|\n",
      "|08:30-20:00|Toronto Public Health             |Toronto|\n",
      "+-----------+----------------------------------+-------+\n",
      "only showing top 20 rows\n",
      "\n"
     ]
    }
   ],
   "source": [
    "df_json.filter(df_json.city==\"Toronto\").select(\"monday\",\"PHU\",\"City\").show(20,False)"
   ]
  },
  {
   "cell_type": "code",
   "execution_count": 196,
   "id": "9fe0ad60-642b-4d0f-b923-dbd01c1df370",
   "metadata": {},
   "outputs": [],
   "source": [
    "query='SELECT PHU, location_name as Location, City from locations where monday Like \"20:00%\" or monday like \"21:00%\" and City==\"Toronto\" '\n"
   ]
  },
  {
   "cell_type": "code",
   "execution_count": 197,
   "id": "c1fd56fb-f863-4c2e-9c3d-a145c7ee8903",
   "metadata": {},
   "outputs": [
    {
     "name": "stdout",
     "output_type": "stream",
     "text": [
      "+---+--------+----+\n",
      "|PHU|Location|City|\n",
      "+---+--------+----+\n",
      "+---+--------+----+\n",
      "\n"
     ]
    }
   ],
   "source": [
    "df_q5 = sc.sql(query)\n",
    "df_q5.show(30,False)"
   ]
  },
  {
   "cell_type": "markdown",
   "id": "0dcdeebf-9120-4b2a-9a9b-00d9669db11a",
   "metadata": {},
   "source": [
    "As can be seen, there arent any PHUs in Toronto that operate in these specific times."
   ]
  },
  {
   "cell_type": "markdown",
   "id": "b201a500-751c-4481-8619-bdf9fcdf0c6b",
   "metadata": {},
   "source": [
    "# Question 6:"
   ]
  },
  {
   "cell_type": "markdown",
   "id": "3ee61767-7772-421e-b3ef-1eca29b606bc",
   "metadata": {},
   "source": [
    "List the hours of operation of all the PHU in Toronto. "
   ]
  },
  {
   "cell_type": "code",
   "execution_count": 213,
   "id": "25228d48-26c1-40b9-9800-a0452729b02f",
   "metadata": {},
   "outputs": [
    {
     "name": "stdout",
     "output_type": "stream",
     "text": [
      "root\n",
      " |-- PHU: string (nullable = true)\n",
      " |-- PHU_fr: string (nullable = true)\n",
      " |-- accessible: string (nullable = true)\n",
      " |-- active: string (nullable = true)\n",
      " |-- additional_information: string (nullable = true)\n",
      " |-- additional_information_fr: string (nullable = true)\n",
      " |-- address: string (nullable = true)\n",
      " |-- address_fr: string (nullable = true)\n",
      " |-- after_hours: string (nullable = true)\n",
      " |-- age_threshold: string (nullable = true)\n",
      " |-- appointments: string (nullable = true)\n",
      " |-- asl_interpretation: string (nullable = true)\n",
      " |-- assessment_centre: string (nullable = true)\n",
      " |-- children_under_2: string (nullable = true)\n",
      " |-- city: string (nullable = true)\n",
      " |-- community_lab: string (nullable = true)\n",
      " |-- drive_through: string (nullable = true)\n",
      " |-- email: string (nullable = true)\n",
      " |-- first_nations: string (nullable = true)\n",
      " |-- free_parking: string (nullable = true)\n",
      " |-- french_language_services: string (nullable = true)\n",
      " |-- friday: string (nullable = true)\n",
      " |-- general_population: string (nullable = true)\n",
      " |-- latitude: string (nullable = true)\n",
      " |-- location_id: string (nullable = true)\n",
      " |-- location_name: string (nullable = true)\n",
      " |-- location_name_fr: string (nullable = true)\n",
      " |-- longitude: string (nullable = true)\n",
      " |-- monday: string (nullable = true)\n",
      " |-- online_appointments: string (nullable = true)\n",
      " |-- operated_by: string (nullable = true)\n",
      " |-- operated_by_fr: string (nullable = true)\n",
      " |-- paid_parking: string (nullable = true)\n",
      " |-- pharmacy: string (nullable = true)\n",
      " |-- phone: string (nullable = true)\n",
      " |-- phone_appointments: string (nullable = true)\n",
      " |-- phu_id: string (nullable = true)\n",
      " |-- postal_code: string (nullable = true)\n",
      " |-- province: string (nullable = true)\n",
      " |-- public_transit: string (nullable = true)\n",
      " |-- saturday: string (nullable = true)\n",
      " |-- sunday: string (nullable = true)\n",
      " |-- symptomatic: string (nullable = true)\n",
      " |-- temporarily_closed: string (nullable = true)\n",
      " |-- thursday: string (nullable = true)\n",
      " |-- tuesday: string (nullable = true)\n",
      " |-- walk_ins: string (nullable = true)\n",
      " |-- website: string (nullable = true)\n",
      " |-- wednesday: string (nullable = true)\n",
      " |-- weeks_pregnant: string (nullable = true)\n",
      "\n"
     ]
    }
   ],
   "source": [
    "df_json.printSchema()"
   ]
  },
  {
   "cell_type": "code",
   "execution_count": 209,
   "id": "081ab20c-b42c-41f7-a4ae-b8a716ba3445",
   "metadata": {},
   "outputs": [],
   "source": [
    "query='SELECT PHU, Monday, Tuesday, Wednesday, Thursday, Friday, Saturday, Sunday from locations where City==\"Toronto\" '\n"
   ]
  },
  {
   "cell_type": "code",
   "execution_count": 212,
   "id": "57b08cda-a2ad-4988-be15-5af4d8ae5644",
   "metadata": {},
   "outputs": [
    {
     "name": "stdout",
     "output_type": "stream",
     "text": [
      "+----------------------------------+-----------+-----------+-----------+-----------+-----------+-----------+-----------+\n",
      "|PHU                               |Monday     |Tuesday    |Wednesday  |Thursday   |Friday     |Saturday   |Sunday     |\n",
      "+----------------------------------+-----------+-----------+-----------+-----------+-----------+-----------+-----------+\n",
      "|Toronto Public Health             |11:00-19:00|11:00-19:00|11:00-19:00|11:00-19:00|11:00-19:00|08:00-16:00|08:00-16:00|\n",
      "|Toronto Public Health             |00:00-00:00|00:00-00:00|00:00-00:00|00:00-00:00|00:00-00:00|00:00-00:00|00:00-00:00|\n",
      "|Toronto Public Health             |08:00-19:30|08:00-19:30|08:00-19:30|08:00-19:30|08:00-19:30|08:00-19:30|08:00-19:30|\n",
      "|York Region Public Health Services|13:00-18:30|13:00-18:30|13:00-18:30|null       |null       |null       |null       |\n",
      "|Toronto Public Health             |08:00-16:00|08:00-16:00|08:00-16:00|08:00-16:00|08:00-16:00|           |           |\n",
      "|Toronto Public Health             |08:00-20:00|08:00-20:00|08:00-20:00|08:00-20:00|08:00-20:00|08:00-20:00|08:00-20:00|\n",
      "|Toronto Public Health             |null       |null       |null       |null       |null       |null       |null       |\n",
      "|Toronto Public Health             |09:00-19:30|09:00-19:30|09:00-19:30|09:00-19:30|09:00-19:30|09:00-19:30|09:00-19:30|\n",
      "|Toronto Public Health             |08:00-20:00|08:00-20:00|08:00-20:00|08:00-20:00|08:00-20:00|08:00-20:00|12:00-20:00|\n",
      "|Toronto Public Health             |08:00-20:00|08:00-20:00|08:00-20:00|08:00-20:00|08:00-20:00|08:00-20:00|08:00-20:00|\n",
      "|Toronto Public Health             |08:00-18:00|08:00-18:00|08:00-18:00|08:00-18:00|08:00-18:00|08:00-18:00|08:00-18:00|\n",
      "|Toronto Public Health             |08:30-19:30|08:30-19:30|08:30-19:30|08:30-19:30|08:30-19:30|08:30-19:30|08:30-19:30|\n",
      "|Toronto Public Health             |08:00-00:00|08:00-00:00|08:00-00:00|08:00-00:00|08:00-00:00|08:00-00:00|08:00-00:00|\n",
      "|Toronto Public Health             |08:00-22:00|08:00-22:00|08:00-22:00|08:00-22:00|08:00-22:00|08:00-22:00|08:00-22:00|\n",
      "|Toronto Public Health             |08:00-00:00|08:00-00:00|08:00-00:00|08:00-00:00|08:00-00:00|08:00-00:00|08:00-00:00|\n",
      "|Toronto Public Health             |08:00-22:00|08:00-22:00|08:00-22:00|08:00-22:00|08:00-22:00|08:00-22:00|08:00-22:00|\n",
      "|Toronto Public Health             |08:00-00:00|08:00-00:00|08:00-00:00|08:00-00:00|08:00-00:00|08:00-00:00|08:00-00:00|\n",
      "|Toronto Public Health             |07:00-22:00|07:00-22:00|07:00-22:00|07:00-22:00|07:00-22:00|08:00-22:00|08:00-22:00|\n",
      "|Toronto Public Health             |09:00-19:00|09:00-19:00|09:00-19:00|10:00-18:00|10:00-18:00|10:00-17:00|11:00-15:00|\n",
      "|Toronto Public Health             |08:30-20:00|08:30-20:00|08:30-20:00|08:30-20:00|08:30-19:00|09:00-15:00|null       |\n",
      "+----------------------------------+-----------+-----------+-----------+-----------+-----------+-----------+-----------+\n",
      "only showing top 20 rows\n",
      "\n"
     ]
    }
   ],
   "source": [
    "df_q6 = sc.sql(query)\n",
    "df_q6.show(20,False)"
   ]
  },
  {
   "cell_type": "markdown",
   "id": "c573be6a-76c6-4ddf-a5d3-0cc05addf0e1",
   "metadata": {},
   "source": [
    "# Question 7:"
   ]
  },
  {
   "cell_type": "markdown",
   "id": "a90840ea-9efe-4404-bc6b-c32d921093c5",
   "metadata": {},
   "source": [
    "Count all the PHU are temporary closed in each city."
   ]
  },
  {
   "cell_type": "code",
   "execution_count": 216,
   "id": "0b28c300-4989-4c75-b562-ed38dc436403",
   "metadata": {},
   "outputs": [
    {
     "name": "stdout",
     "output_type": "stream",
     "text": [
      "+------------------+\n",
      "|temporarily_closed|\n",
      "+------------------+\n",
      "|null              |\n",
      "|null              |\n",
      "|null              |\n",
      "|null              |\n",
      "|null              |\n",
      "|null              |\n",
      "|null              |\n",
      "|null              |\n",
      "|null              |\n",
      "|Yes               |\n",
      "|Yes               |\n",
      "|null              |\n",
      "|null              |\n",
      "|null              |\n",
      "|null              |\n",
      "|null              |\n",
      "|null              |\n",
      "|null              |\n",
      "|null              |\n",
      "|null              |\n",
      "+------------------+\n",
      "only showing top 20 rows\n",
      "\n"
     ]
    }
   ],
   "source": [
    "df_json.select(\"temporarily_closed\").show(20,False)"
   ]
  },
  {
   "cell_type": "code",
   "execution_count": 225,
   "id": "1ca1ac4d-be89-44b1-bbe3-a65416660ac3",
   "metadata": {},
   "outputs": [],
   "source": [
    "query='SELECT Count(PHU), City from locations where temporarily_closed==\"Yes\" GROUP BY City '\n"
   ]
  },
  {
   "cell_type": "code",
   "execution_count": 226,
   "id": "3897837b-f2fe-4424-8f29-0e6c0204467d",
   "metadata": {},
   "outputs": [
    {
     "name": "stdout",
     "output_type": "stream",
     "text": [
      "+----------+-----------+\n",
      "|count(PHU)|City       |\n",
      "+----------+-----------+\n",
      "|1         |Cobden     |\n",
      "|1         |Alexandria |\n",
      "|1         |Welland    |\n",
      "|1         |Goderich   |\n",
      "|1         |Casselman  |\n",
      "|1         |Oshawa     |\n",
      "|2         |Toronto    |\n",
      "|1         |Huntsville |\n",
      "|1         |Kitchener  |\n",
      "|2         |Windsor    |\n",
      "|1         |Hamilton   |\n",
      "|1         |Haileybury |\n",
      "|1         |Petawawa   |\n",
      "|1         |Douglas    |\n",
      "|1         |Bracebridge|\n",
      "+----------+-----------+\n",
      "\n"
     ]
    }
   ],
   "source": [
    "df_q7 = sc.sql(query)\n",
    "df_q7.show(20,False)"
   ]
  },
  {
   "cell_type": "markdown",
   "id": "52856c29-9dee-4e28-bbb5-56ab73f069b0",
   "metadata": {},
   "source": [
    "# Question 8:"
   ]
  },
  {
   "cell_type": "markdown",
   "id": "0c1a7b24-dbc9-4b7f-b02f-ba9a9c594e18",
   "metadata": {},
   "source": [
    "phu_locations.json has phone field. Create two more columns. First field should contain only\n",
    "area code and 2nd field should contain extension number.\n"
   ]
  },
  {
   "cell_type": "code",
   "execution_count": 228,
   "id": "e93076de-bde8-4667-9198-ad80b8d80fd6",
   "metadata": {},
   "outputs": [
    {
     "name": "stdout",
     "output_type": "stream",
     "text": [
      "root\n",
      " |-- PHU: string (nullable = true)\n",
      " |-- PHU_fr: string (nullable = true)\n",
      " |-- accessible: string (nullable = true)\n",
      " |-- active: string (nullable = true)\n",
      " |-- additional_information: string (nullable = true)\n",
      " |-- additional_information_fr: string (nullable = true)\n",
      " |-- address: string (nullable = true)\n",
      " |-- address_fr: string (nullable = true)\n",
      " |-- after_hours: string (nullable = true)\n",
      " |-- age_threshold: string (nullable = true)\n",
      " |-- appointments: string (nullable = true)\n",
      " |-- asl_interpretation: string (nullable = true)\n",
      " |-- assessment_centre: string (nullable = true)\n",
      " |-- children_under_2: string (nullable = true)\n",
      " |-- city: string (nullable = true)\n",
      " |-- community_lab: string (nullable = true)\n",
      " |-- drive_through: string (nullable = true)\n",
      " |-- email: string (nullable = true)\n",
      " |-- first_nations: string (nullable = true)\n",
      " |-- free_parking: string (nullable = true)\n",
      " |-- french_language_services: string (nullable = true)\n",
      " |-- friday: string (nullable = true)\n",
      " |-- general_population: string (nullable = true)\n",
      " |-- latitude: string (nullable = true)\n",
      " |-- location_id: string (nullable = true)\n",
      " |-- location_name: string (nullable = true)\n",
      " |-- location_name_fr: string (nullable = true)\n",
      " |-- longitude: string (nullable = true)\n",
      " |-- monday: string (nullable = true)\n",
      " |-- online_appointments: string (nullable = true)\n",
      " |-- operated_by: string (nullable = true)\n",
      " |-- operated_by_fr: string (nullable = true)\n",
      " |-- paid_parking: string (nullable = true)\n",
      " |-- pharmacy: string (nullable = true)\n",
      " |-- phone: string (nullable = true)\n",
      " |-- phone_appointments: string (nullable = true)\n",
      " |-- phu_id: string (nullable = true)\n",
      " |-- postal_code: string (nullable = true)\n",
      " |-- province: string (nullable = true)\n",
      " |-- public_transit: string (nullable = true)\n",
      " |-- saturday: string (nullable = true)\n",
      " |-- sunday: string (nullable = true)\n",
      " |-- symptomatic: string (nullable = true)\n",
      " |-- temporarily_closed: string (nullable = true)\n",
      " |-- thursday: string (nullable = true)\n",
      " |-- tuesday: string (nullable = true)\n",
      " |-- walk_ins: string (nullable = true)\n",
      " |-- website: string (nullable = true)\n",
      " |-- wednesday: string (nullable = true)\n",
      " |-- weeks_pregnant: string (nullable = true)\n",
      "\n"
     ]
    }
   ],
   "source": [
    "df_json.printSchema()"
   ]
  },
  {
   "cell_type": "code",
   "execution_count": 229,
   "id": "8b358221-9fb6-405d-a474-6d8e151d96f0",
   "metadata": {},
   "outputs": [
    {
     "name": "stdout",
     "output_type": "stream",
     "text": [
      "+----------------------+\n",
      "|phone                 |\n",
      "+----------------------+\n",
      "|705-568-2127          |\n",
      "|705-444-5885          |\n",
      "|705-529-1025          |\n",
      "|905-203-7963          |\n",
      "|905-203-7963          |\n",
      "|905-203-7963          |\n",
      "|833-442-2001          |\n",
      "|905-883-1212 ext. 2004|\n",
      "|null                  |\n",
      "|888-383-7009          |\n",
      "|888-383-7009          |\n",
      "|888-589-4109          |\n",
      "|null                  |\n",
      "|289-803-2199          |\n",
      "|249-501-0383          |\n",
      "|                      |\n",
      "|null                  |\n",
      "|                      |\n",
      "|905-487-1249          |\n",
      "|905-487-1249          |\n",
      "+----------------------+\n",
      "only showing top 20 rows\n",
      "\n"
     ]
    }
   ],
   "source": [
    "df_json.select(\"phone\").show(20,False)"
   ]
  },
  {
   "cell_type": "code",
   "execution_count": 490,
   "id": "c167fe19-86c8-437f-bf4f-0422a1fc2178",
   "metadata": {},
   "outputs": [],
   "source": [
    "### String Split of the column in pyspark\n",
    "from pyspark.sql.functions import split, col"
   ]
  },
  {
   "cell_type": "code",
   "execution_count": 259,
   "id": "d20bf8b7-d082-4d5f-af90-f029056c0355",
   "metadata": {},
   "outputs": [],
   "source": [
    "df_phone=df_json.select(\"phone\")"
   ]
  },
  {
   "cell_type": "code",
   "execution_count": 261,
   "id": "aa5d97ff-91d0-4b34-a0a5-b0c5028a0f83",
   "metadata": {},
   "outputs": [
    {
     "name": "stdout",
     "output_type": "stream",
     "text": [
      "+-----------------------+---------+---------+\n",
      "|phone                  |area_code|extension|\n",
      "+-----------------------+---------+---------+\n",
      "|705-568-2127           |705      |null     |\n",
      "|705-444-5885           |705      |null     |\n",
      "|705-529-1025           |705      |null     |\n",
      "|905-203-7963           |905      |null     |\n",
      "|905-203-7963           |905      |null     |\n",
      "|905-203-7963           |905      |null     |\n",
      "|833-442-2001           |833      |null     |\n",
      "|905-883-1212 ext. 2004 |905      | 2004    |\n",
      "|null                   |null     |null     |\n",
      "|888-383-7009           |888      |null     |\n",
      "|888-383-7009           |888      |null     |\n",
      "|888-589-4109           |888      |null     |\n",
      "|null                   |null     |null     |\n",
      "|289-803-2199           |289      |null     |\n",
      "|249-501-0383           |249      |null     |\n",
      "|                       |         |null     |\n",
      "|null                   |null     |null     |\n",
      "|                       |         |null     |\n",
      "|905-487-1249           |905      |null     |\n",
      "|905-487-1249           |905      |null     |\n",
      "|613-325-1208           |613      |null     |\n",
      "|613-704-1441           |613      |null     |\n",
      "|613-737-7600 ext. 6720 |613      | 6720    |\n",
      "|613-737-8193           |613      |null     |\n",
      "|343-475-0160           |343      |null     |\n",
      "|613-740-0999           |613      |null     |\n",
      "|705-457-1212 ext. 6    |705      | 6       |\n",
      "|613-632-1111 ext. 53800|613      | 53800   |\n",
      "|800-267-8260           |800      |null     |\n",
      "|800-267-7120           |800      |null     |\n",
      "+-----------------------+---------+---------+\n",
      "only showing top 30 rows\n",
      "\n"
     ]
    }
   ],
   "source": [
    "df_phone.withColumn(\"area_code\", split(col(\"phone\"), \"-\").getItem(0)).withColumn(\"extension\", split(col(\"phone\"), \"ext.\").getItem(1)).show(30,False)"
   ]
  },
  {
   "cell_type": "markdown",
   "id": "5742dbee-0db5-4e2e-8915-c78f53de9e7c",
   "metadata": {},
   "source": [
    "# Question 9:"
   ]
  },
  {
   "cell_type": "markdown",
   "id": "9caf6e2b-2798-4c88-9cf1-cbfdbfe5659f",
   "metadata": {},
   "source": [
    "Find out highest number of resolved cases of covid-19 in each PHU between April 2020 to Sep\n",
    "2020"
   ]
  },
  {
   "cell_type": "code",
   "execution_count": 263,
   "id": "3b6f9b81-9550-46c0-b2ee-76c414ecd9b0",
   "metadata": {},
   "outputs": [
    {
     "name": "stdout",
     "output_type": "stream",
     "text": [
      "root\n",
      " |-- FILE_DATE: integer (nullable = true)\n",
      " |-- PHU_NAME: string (nullable = true)\n",
      " |-- PHU_NUM: integer (nullable = true)\n",
      " |-- ACTIVE_CASES: integer (nullable = true)\n",
      " |-- RESOLVED_CASES: integer (nullable = true)\n",
      " |-- DEATHS: integer (nullable = true)\n",
      "\n"
     ]
    }
   ],
   "source": [
    "df_csv.printSchema()"
   ]
  },
  {
   "cell_type": "code",
   "execution_count": 264,
   "id": "e012868d-30a7-4476-b56e-d376ca6b5d2a",
   "metadata": {},
   "outputs": [
    {
     "name": "stdout",
     "output_type": "stream",
     "text": [
      "+---------+---------------------------------------+-------+------------+--------------+------+\n",
      "|FILE_DATE|PHU_NAME                               |PHU_NUM|ACTIVE_CASES|RESOLVED_CASES|DEATHS|\n",
      "+---------+---------------------------------------+-------+------------+--------------+------+\n",
      "|20200410 |HALIBURTON, KAWARTHA, PINE RIDGE       |2235   |23          |69            |18    |\n",
      "|20200410 |HALTON REGION                          |2236   |112         |137           |9     |\n",
      "|20200410 |HASTINGS & PRINCE EDWARD COUNTIES      |2238   |12          |11            |1     |\n",
      "|20200410 |HURON PERTH                            |5183   |20          |8             |1     |\n",
      "|20200410 |KINGSTON, FRONTENAC, LENNOX & ADDINGTON|2241   |13          |39            |0     |\n",
      "|20200410 |LAMBTON COUNTY                         |2242   |65          |26            |9     |\n",
      "|20200410 |LEEDS, GRENVILLE AND LANARK DISTRICT   |2243   |102         |36            |8     |\n",
      "|20200410 |MIDDLESEX-LONDON                       |2244   |109         |53            |8     |\n",
      "|20200410 |NIAGARA REGION                         |2246   |91          |95            |12    |\n",
      "|20200410 |NORTH BAY PARRY SOUND DISTRICT         |2247   |2           |4             |0     |\n",
      "|20200410 |NORTHWESTERN                           |2249   |1           |8             |0     |\n",
      "|20200410 |OXFORD ELGIN-ST.THOMAS                 |4913   |13          |13            |2     |\n",
      "|20200410 |PEEL REGION                            |2253   |575         |222           |14    |\n",
      "|20200410 |PETERBOROUGH COUNTY-CITY               |2255   |14          |36            |0     |\n",
      "|20200410 |PORCUPINE                              |2256   |21          |15            |2     |\n",
      "|20200410 |RENFREW COUNTY AND DISTRICT            |2257   |5           |6             |1     |\n",
      "|20200410 |SIMCOE MUSKOKA DISTRICT                |2260   |64          |51            |5     |\n",
      "|20200410 |SUDBURY AND DISTRICT                   |2261   |8           |19            |1     |\n",
      "|20200410 |THUNDER BAY DISTRICT                   |2262   |15          |7             |0     |\n",
      "|20200410 |TIMISKAMING                            |2263   |4           |3             |0     |\n",
      "|20200410 |TORONTO                                |3895   |947         |582           |52    |\n",
      "|20200410 |WATERLOO REGION                        |2265   |99          |91            |5     |\n",
      "|20200410 |WELLINGTON-DUFFERIN-GUELPH             |2266   |90          |40            |1     |\n",
      "|20200410 |WINDSOR-ESSEX COUNTY                   |2268   |175         |71            |6     |\n",
      "|20200410 |YORK REGION                            |2270   |310         |268           |24    |\n",
      "|20200411 |ALGOMA DISTRICT                        |2226   |3           |7             |0     |\n",
      "|20200411 |BRANT COUNTY                           |2227   |21          |42            |1     |\n",
      "|20200411 |CHATHAM-KENT                           |2240   |6           |11            |1     |\n",
      "|20200411 |CITY OF HAMILTON                       |2237   |76          |131           |6     |\n",
      "|20200411 |CITY OF OTTAWA                         |2251   |208         |286           |8     |\n",
      "+---------+---------------------------------------+-------+------------+--------------+------+\n",
      "only showing top 30 rows\n",
      "\n"
     ]
    }
   ],
   "source": [
    "df_csv.show(30,False)"
   ]
  },
  {
   "cell_type": "code",
   "execution_count": 321,
   "id": "14080d62-293c-44a2-a38b-83fe1507e48d",
   "metadata": {},
   "outputs": [],
   "source": [
    "df_csv.createOrReplaceTempView(\"cases\")"
   ]
  },
  {
   "cell_type": "code",
   "execution_count": 280,
   "id": "81c71c5d-f5df-43a9-9631-98c035481ab5",
   "metadata": {},
   "outputs": [],
   "source": [
    "query2='SELECT Max(ACTIVE_CASES), PHU_NAME as PHU from cases where (FILE_DATE BETWEEN \"20200401\"AND \"20200930\") group by PHU_NAME ORDER by MAX(ACTIVE_CASES) ASC'\n"
   ]
  },
  {
   "cell_type": "code",
   "execution_count": 281,
   "id": "2a265b11-4025-438f-b745-1c7524661b46",
   "metadata": {},
   "outputs": [
    {
     "name": "stdout",
     "output_type": "stream",
     "text": [
      "+-----------------+---------------------------------------+\n",
      "|max(ACTIVE_CASES)|PHU                                    |\n",
      "+-----------------+---------------------------------------+\n",
      "|6                |NORTH BAY PARRY SOUND DISTRICT         |\n",
      "|7                |ALGOMA DISTRICT                        |\n",
      "|7                |TIMISKAMING                            |\n",
      "|9                |NORTHWESTERN                           |\n",
      "|10               |RENFREW COUNTY AND DISTRICT            |\n",
      "|14               |HASTINGS & PRINCE EDWARD COUNTIES      |\n",
      "|21               |PORCUPINE                              |\n",
      "|22               |SUDBURY AND DISTRICT                   |\n",
      "|24               |BRANT COUNTY                           |\n",
      "|26               |THUNDER BAY DISTRICT                   |\n",
      "|27               |PETERBOROUGH COUNTY-CITY               |\n",
      "|31               |HURON PERTH                            |\n",
      "|35               |GREY BRUCE                             |\n",
      "|35               |EASTERN ONTARIO                        |\n",
      "|39               |KINGSTON, FRONTENAC, LENNOX & ADDINGTON|\n",
      "|44               |HALIBURTON, KAWARTHA, PINE RIDGE       |\n",
      "|65               |LAMBTON COUNTY                         |\n",
      "|81               |OXFORD ELGIN-ST.THOMAS                 |\n",
      "|82               |CHATHAM-KENT                           |\n",
      "|97               |SIMCOE MUSKOKA DISTRICT                |\n",
      "|111              |WELLINGTON-DUFFERIN-GUELPH             |\n",
      "|140              |CITY OF HAMILTON                       |\n",
      "|149              |HALTON REGION                          |\n",
      "|150              |NIAGARA REGION                         |\n",
      "|152              |LEEDS, GRENVILLE AND LANARK DISTRICT   |\n",
      "|155              |HALDIMAND-NORFOLK                      |\n",
      "|155              |MIDDLESEX-LONDON                       |\n",
      "|237              |WATERLOO REGION                        |\n",
      "|348              |DURHAM REGION                          |\n",
      "|365              |WINDSOR-ESSEX COUNTY                   |\n",
      "+-----------------+---------------------------------------+\n",
      "only showing top 30 rows\n",
      "\n"
     ]
    }
   ],
   "source": [
    "df_q9 = sc.sql(query2)\n",
    "df_q9.show(30,False)"
   ]
  },
  {
   "cell_type": "markdown",
   "id": "ded6e286-aaa7-41c3-9729-16eb4044c4b8",
   "metadata": {},
   "source": [
    "# Question 10:"
   ]
  },
  {
   "cell_type": "markdown",
   "id": "36320f20-8dbd-4e60-95ca-c9119daaab9c",
   "metadata": {},
   "source": [
    "Which PHU has more resolved cases of covid-19 than active cases in year 2020.\n"
   ]
  },
  {
   "cell_type": "code",
   "execution_count": 293,
   "id": "4fcc5cf6-2115-4efd-a957-8e191cac31df",
   "metadata": {},
   "outputs": [
    {
     "name": "stdout",
     "output_type": "stream",
     "text": [
      "+---------+---------------------------------------+-------+------------+--------------+------+\n",
      "|FILE_DATE|PHU_NAME                               |PHU_NUM|ACTIVE_CASES|RESOLVED_CASES|DEATHS|\n",
      "+---------+---------------------------------------+-------+------------+--------------+------+\n",
      "|20200410 |HALIBURTON, KAWARTHA, PINE RIDGE       |2235   |23          |69            |18    |\n",
      "|20200410 |HALTON REGION                          |2236   |112         |137           |9     |\n",
      "|20200410 |HASTINGS & PRINCE EDWARD COUNTIES      |2238   |12          |11            |1     |\n",
      "|20200410 |HURON PERTH                            |5183   |20          |8             |1     |\n",
      "|20200410 |KINGSTON, FRONTENAC, LENNOX & ADDINGTON|2241   |13          |39            |0     |\n",
      "|20200410 |LAMBTON COUNTY                         |2242   |65          |26            |9     |\n",
      "|20200410 |LEEDS, GRENVILLE AND LANARK DISTRICT   |2243   |102         |36            |8     |\n",
      "|20200410 |MIDDLESEX-LONDON                       |2244   |109         |53            |8     |\n",
      "|20200410 |NIAGARA REGION                         |2246   |91          |95            |12    |\n",
      "|20200410 |NORTH BAY PARRY SOUND DISTRICT         |2247   |2           |4             |0     |\n",
      "|20200410 |NORTHWESTERN                           |2249   |1           |8             |0     |\n",
      "|20200410 |OXFORD ELGIN-ST.THOMAS                 |4913   |13          |13            |2     |\n",
      "|20200410 |PEEL REGION                            |2253   |575         |222           |14    |\n",
      "|20200410 |PETERBOROUGH COUNTY-CITY               |2255   |14          |36            |0     |\n",
      "|20200410 |PORCUPINE                              |2256   |21          |15            |2     |\n",
      "|20200410 |RENFREW COUNTY AND DISTRICT            |2257   |5           |6             |1     |\n",
      "|20200410 |SIMCOE MUSKOKA DISTRICT                |2260   |64          |51            |5     |\n",
      "|20200410 |SUDBURY AND DISTRICT                   |2261   |8           |19            |1     |\n",
      "|20200410 |THUNDER BAY DISTRICT                   |2262   |15          |7             |0     |\n",
      "|20200410 |TIMISKAMING                            |2263   |4           |3             |0     |\n",
      "+---------+---------------------------------------+-------+------------+--------------+------+\n",
      "only showing top 20 rows\n",
      "\n"
     ]
    }
   ],
   "source": [
    "df_csv.selectshow(20,False)\n"
   ]
  },
  {
   "cell_type": "code",
   "execution_count": 476,
   "id": "c0910db0-cc52-4668-91fe-46b505cb2d0c",
   "metadata": {},
   "outputs": [],
   "source": [
    "query2=' SELECT PHU_NAME, RESOLVED_CASES, ACTIVE_CASES, FILE_DATE FROM cases WHERE RESOLVED_CASES > ACTIVE_CASES AND CAST(FILE_DATE AS STRING) LIKE \"2020%\"   '\n"
   ]
  },
  {
   "cell_type": "code",
   "execution_count": 477,
   "id": "902338d2-795c-423a-992c-23dd385b2ec4",
   "metadata": {},
   "outputs": [
    {
     "name": "stdout",
     "output_type": "stream",
     "text": [
      "+---------------------------------------+--------------+------------+---------+\n",
      "|PHU_NAME                               |RESOLVED_CASES|ACTIVE_CASES|FILE_DATE|\n",
      "+---------------------------------------+--------------+------------+---------+\n",
      "|HALIBURTON, KAWARTHA, PINE RIDGE       |69            |23          |20200410 |\n",
      "|HALTON REGION                          |137           |112         |20200410 |\n",
      "|KINGSTON, FRONTENAC, LENNOX & ADDINGTON|39            |13          |20200410 |\n",
      "|NIAGARA REGION                         |95            |91          |20200410 |\n",
      "|NORTH BAY PARRY SOUND DISTRICT         |4             |2           |20200410 |\n",
      "|NORTHWESTERN                           |8             |1           |20200410 |\n",
      "|PETERBOROUGH COUNTY-CITY               |36            |14          |20200410 |\n",
      "|RENFREW COUNTY AND DISTRICT            |6             |5           |20200410 |\n",
      "|SUDBURY AND DISTRICT                   |19            |8           |20200410 |\n",
      "|ALGOMA DISTRICT                        |7             |3           |20200411 |\n",
      "|BRANT COUNTY                           |42            |21          |20200411 |\n",
      "|CHATHAM-KENT                           |11            |6           |20200411 |\n",
      "|CITY OF HAMILTON                       |131           |76          |20200411 |\n",
      "|CITY OF OTTAWA                         |286           |208         |20200411 |\n",
      "|DURHAM REGION                          |165           |137         |20200411 |\n",
      "|EASTERN ONTARIO                        |38            |17          |20200411 |\n",
      "|HALIBURTON, KAWARTHA, PINE RIDGE       |74            |29          |20200411 |\n",
      "|HALTON REGION                          |147           |109         |20200411 |\n",
      "|KINGSTON, FRONTENAC, LENNOX & ADDINGTON|45            |7           |20200411 |\n",
      "|NIAGARA REGION                         |102           |90          |20200411 |\n",
      "|NORTH BAY PARRY SOUND DISTRICT         |4             |3           |20200411 |\n",
      "|NORTHWESTERN                           |9             |0           |20200411 |\n",
      "|OXFORD ELGIN-ST.THOMAS                 |14            |12          |20200411 |\n",
      "|PETERBOROUGH COUNTY-CITY               |36            |15          |20200411 |\n",
      "|PORCUPINE                              |19            |17          |20200411 |\n",
      "|RENFREW COUNTY AND DISTRICT            |7             |4           |20200411 |\n",
      "|SUDBURY AND DISTRICT                   |22            |6           |20200411 |\n",
      "|TIMISKAMING                            |4             |3           |20200411 |\n",
      "|WATERLOO REGION                        |105           |90          |20200411 |\n",
      "|ALGOMA DISTRICT                        |7             |3           |20200412 |\n",
      "+---------------------------------------+--------------+------------+---------+\n",
      "only showing top 30 rows\n",
      "\n"
     ]
    }
   ],
   "source": [
    "df_q10 = sc.sql(query2)\n",
    "df_q10.show(30,False)"
   ]
  },
  {
   "cell_type": "markdown",
   "id": "e999a0d8-d91c-4c62-bb1b-4f9744c175df",
   "metadata": {},
   "source": [
    "# Question 11:"
   ]
  },
  {
   "cell_type": "markdown",
   "id": "acf6a8cc-3185-487d-9e0d-28f53d0d654e",
   "metadata": {},
   "source": [
    "List only PHU which has least death due to covid-19 in each month.\n"
   ]
  },
  {
   "cell_type": "code",
   "execution_count": 528,
   "id": "10fa5622-3fb6-4bc7-8c9f-fc6292753528",
   "metadata": {},
   "outputs": [],
   "source": [
    "from pyspark.sql import functions as F\n",
    "\n",
    "df_csv=df_csv.withColumn(\"FILE_DATE\", F.to_date(F.col(\"FILE_DATE\").cast(\"string\"), \\\n",
    "    'yyyyMMdd'))"
   ]
  },
  {
   "cell_type": "code",
   "execution_count": 530,
   "id": "0f54be57-7824-43a8-854a-714faf5e4c0d",
   "metadata": {},
   "outputs": [
    {
     "name": "stdout",
     "output_type": "stream",
     "text": [
      "+----------+---------------------------------------+-------+------------+--------------+------+\n",
      "|FILE_DATE |PHU_NAME                               |PHU_NUM|ACTIVE_CASES|RESOLVED_CASES|DEATHS|\n",
      "+----------+---------------------------------------+-------+------------+--------------+------+\n",
      "|2020-04-10|HALIBURTON, KAWARTHA, PINE RIDGE       |2235   |23          |69            |18    |\n",
      "|2020-04-10|HALTON REGION                          |2236   |112         |137           |9     |\n",
      "|2020-04-10|HASTINGS & PRINCE EDWARD COUNTIES      |2238   |12          |11            |1     |\n",
      "|2020-04-10|HURON PERTH                            |5183   |20          |8             |1     |\n",
      "|2020-04-10|KINGSTON, FRONTENAC, LENNOX & ADDINGTON|2241   |13          |39            |0     |\n",
      "|2020-04-10|LAMBTON COUNTY                         |2242   |65          |26            |9     |\n",
      "|2020-04-10|LEEDS, GRENVILLE AND LANARK DISTRICT   |2243   |102         |36            |8     |\n",
      "|2020-04-10|MIDDLESEX-LONDON                       |2244   |109         |53            |8     |\n",
      "|2020-04-10|NIAGARA REGION                         |2246   |91          |95            |12    |\n",
      "|2020-04-10|NORTH BAY PARRY SOUND DISTRICT         |2247   |2           |4             |0     |\n",
      "|2020-04-10|NORTHWESTERN                           |2249   |1           |8             |0     |\n",
      "|2020-04-10|OXFORD ELGIN-ST.THOMAS                 |4913   |13          |13            |2     |\n",
      "|2020-04-10|PEEL REGION                            |2253   |575         |222           |14    |\n",
      "|2020-04-10|PETERBOROUGH COUNTY-CITY               |2255   |14          |36            |0     |\n",
      "|2020-04-10|PORCUPINE                              |2256   |21          |15            |2     |\n",
      "|2020-04-10|RENFREW COUNTY AND DISTRICT            |2257   |5           |6             |1     |\n",
      "|2020-04-10|SIMCOE MUSKOKA DISTRICT                |2260   |64          |51            |5     |\n",
      "|2020-04-10|SUDBURY AND DISTRICT                   |2261   |8           |19            |1     |\n",
      "|2020-04-10|THUNDER BAY DISTRICT                   |2262   |15          |7             |0     |\n",
      "|2020-04-10|TIMISKAMING                            |2263   |4           |3             |0     |\n",
      "+----------+---------------------------------------+-------+------------+--------------+------+\n",
      "only showing top 20 rows\n",
      "\n"
     ]
    }
   ],
   "source": [
    "df_csv.show(truncate=False)"
   ]
  },
  {
   "cell_type": "code",
   "execution_count": 569,
   "id": "bad19d8f-eb7e-4a5f-8043-896b0905380c",
   "metadata": {},
   "outputs": [],
   "source": [
    "query2='SELECT DISTINCT PHU_NAME,MONTH(FILE_DATE) AS MONTH, YEAR(FILE_DATE) AS YEAR  FROM cases WHERE DEATHS = (SELECT MIN(DEATHS) FROM cases) group by PHU_NAME, MONTH(FILE_DATE), YEAR(FILE_DATE)'"
   ]
  },
  {
   "cell_type": "code",
   "execution_count": 570,
   "id": "4d1fa3ac-92c3-4230-9616-cb0159be6148",
   "metadata": {},
   "outputs": [
    {
     "name": "stdout",
     "output_type": "stream",
     "text": [
      "+---------------------------------------+-----+----+\n",
      "|PHU_NAME                               |MONTH|YEAR|\n",
      "+---------------------------------------+-----+----+\n",
      "|HALDIMAND-NORFOLK                      |4    |2020|\n",
      "|YORK REGION                            |4    |2020|\n",
      "|KINGSTON, FRONTENAC, LENNOX & ADDINGTON|4    |2020|\n",
      "|HALIBURTON, KAWARTHA, PINE RIDGE       |4    |2020|\n",
      "|ALGOMA DISTRICT                        |5    |2020|\n",
      "|GREY BRUCE                             |8    |2020|\n",
      "|TIMISKAMING                            |7    |2020|\n",
      "|EASTERN ONTARIO                        |5    |2020|\n",
      "|DURHAM REGION                          |4    |2020|\n",
      "|TIMISKAMING                            |4    |2020|\n",
      "|RENFREW COUNTY AND DISTRICT            |4    |2020|\n",
      "|TIMISKAMING                            |10   |2020|\n",
      "|WINDSOR-ESSEX COUNTY                   |4    |2020|\n",
      "|GREY BRUCE                             |11   |2020|\n",
      "|BRANT COUNTY                           |4    |2020|\n",
      "|HALTON REGION                          |4    |2020|\n",
      "|NORTH BAY PARRY SOUND DISTRICT         |5    |2020|\n",
      "|MIDDLESEX-LONDON                       |4    |2020|\n",
      "|TIMISKAMING                            |12   |2020|\n",
      "|NORTHWESTERN                           |1    |2021|\n",
      "+---------------------------------------+-----+----+\n",
      "only showing top 20 rows\n",
      "\n"
     ]
    }
   ],
   "source": [
    "df_q11 = sc.sql(query2)\n",
    "df_q11.show(truncate=False)"
   ]
  },
  {
   "cell_type": "code",
   "execution_count": 563,
   "id": "60022e85-2e43-415b-8d3e-488c18303ccb",
   "metadata": {},
   "outputs": [
    {
     "name": "stdout",
     "output_type": "stream",
     "text": [
      "+----------+--------------------+-------+------------+--------------+------+\n",
      "| FILE_DATE|            PHU_NAME|PHU_NUM|ACTIVE_CASES|RESOLVED_CASES|DEATHS|\n",
      "+----------+--------------------+-------+------------+--------------+------+\n",
      "|2020-04-10|HALIBURTON, KAWAR...|   2235|          23|            69|    18|\n",
      "|2020-04-10|       HALTON REGION|   2236|         112|           137|     9|\n",
      "|2020-04-10|HASTINGS & PRINCE...|   2238|          12|            11|     1|\n",
      "|2020-04-10|         HURON PERTH|   5183|          20|             8|     1|\n",
      "|2020-04-10|KINGSTON, FRONTEN...|   2241|          13|            39|     0|\n",
      "|2020-04-10|      LAMBTON COUNTY|   2242|          65|            26|     9|\n",
      "|2020-04-10|LEEDS, GRENVILLE ...|   2243|         102|            36|     8|\n",
      "|2020-04-10|    MIDDLESEX-LONDON|   2244|         109|            53|     8|\n",
      "|2020-04-10|      NIAGARA REGION|   2246|          91|            95|    12|\n",
      "|2020-04-10|NORTH BAY PARRY S...|   2247|           2|             4|     0|\n",
      "|2020-04-10|        NORTHWESTERN|   2249|           1|             8|     0|\n",
      "|2020-04-10|OXFORD ELGIN-ST.T...|   4913|          13|            13|     2|\n",
      "|2020-04-10|         PEEL REGION|   2253|         575|           222|    14|\n",
      "|2020-04-10|PETERBOROUGH COUN...|   2255|          14|            36|     0|\n",
      "|2020-04-10|           PORCUPINE|   2256|          21|            15|     2|\n",
      "|2020-04-10|RENFREW COUNTY AN...|   2257|           5|             6|     1|\n",
      "|2020-04-10|SIMCOE MUSKOKA DI...|   2260|          64|            51|     5|\n",
      "|2020-04-10|SUDBURY AND DISTRICT|   2261|           8|            19|     1|\n",
      "|2020-04-10|THUNDER BAY DISTRICT|   2262|          15|             7|     0|\n",
      "|2020-04-10|         TIMISKAMING|   2263|           4|             3|     0|\n",
      "+----------+--------------------+-------+------------+--------------+------+\n",
      "only showing top 20 rows\n",
      "\n"
     ]
    }
   ],
   "source": [
    "df_csv.show()"
   ]
  },
  {
   "cell_type": "markdown",
   "id": "a0be038c-31a8-43cb-8b49-1e43339e3ba4",
   "metadata": {},
   "source": [
    "# Question 12:"
   ]
  },
  {
   "cell_type": "markdown",
   "id": "da13541c-5e69-46b0-b667-9c06b572fd41",
   "metadata": {},
   "source": [
    "Find out total active cases remaining in each PHU"
   ]
  },
  {
   "cell_type": "code",
   "execution_count": 323,
   "id": "56d7cc5d-da3f-4bc4-90ac-9aaf0ace2939",
   "metadata": {},
   "outputs": [],
   "source": [
    "query2='SELECT SUM(ACTIVE_CASES), PHU_NAME FROM cases GROUP BY PHU_NAME ORDER BY SUM(ACTIVE_CASES) ASC'"
   ]
  },
  {
   "cell_type": "code",
   "execution_count": 324,
   "id": "0f064da7-2589-43a8-86a5-f166a6df70ec",
   "metadata": {},
   "outputs": [
    {
     "name": "stdout",
     "output_type": "stream",
     "text": [
      "+-----------------+---------------------------------------+\n",
      "|sum(ACTIVE_CASES)|PHU_NAME                               |\n",
      "+-----------------+---------------------------------------+\n",
      "|788              |TIMISKAMING                            |\n",
      "|1185             |NORTH BAY PARRY SOUND DISTRICT         |\n",
      "|1272             |ALGOMA DISTRICT                        |\n",
      "|1633             |PORCUPINE                              |\n",
      "|1777             |NORTHWESTERN                           |\n",
      "|2155             |RENFREW COUNTY AND DISTRICT            |\n",
      "|2856             |HASTINGS & PRINCE EDWARD COUNTIES      |\n",
      "|3927             |SUDBURY AND DISTRICT                   |\n",
      "|4082             |PETERBOROUGH COUNTY-CITY               |\n",
      "|4680             |GREY BRUCE                             |\n",
      "|5017             |KINGSTON, FRONTENAC, LENNOX & ADDINGTON|\n",
      "|5311             |HALIBURTON, KAWARTHA, PINE RIDGE       |\n",
      "|6730             |THUNDER BAY DISTRICT                   |\n",
      "|6876             |LEEDS, GRENVILLE AND LANARK DISTRICT   |\n",
      "|7611             |HURON PERTH                            |\n",
      "|8048             |CHATHAM-KENT                           |\n",
      "|10956            |HALDIMAND-NORFOLK                      |\n",
      "|10993            |LAMBTON COUNTY                         |\n",
      "|11666            |BRANT COUNTY                           |\n",
      "|17163            |OXFORD ELGIN-ST.THOMAS                 |\n",
      "|21979            |EASTERN ONTARIO                        |\n",
      "|32742            |WELLINGTON-DUFFERIN-GUELPH             |\n",
      "|44256            |SIMCOE MUSKOKA DISTRICT                |\n",
      "|53100            |MIDDLESEX-LONDON                       |\n",
      "|57268            |NIAGARA REGION                         |\n",
      "|60459            |WATERLOO REGION                        |\n",
      "|70939            |HALTON REGION                          |\n",
      "|72612            |CITY OF HAMILTON                       |\n",
      "|75778            |DURHAM REGION                          |\n",
      "|105054           |WINDSOR-ESSEX COUNTY                   |\n",
      "+-----------------+---------------------------------------+\n",
      "only showing top 30 rows\n",
      "\n"
     ]
    }
   ],
   "source": [
    "df_q12 = sc.sql(query2)\n",
    "df_q12.show(30,False)"
   ]
  },
  {
   "cell_type": "markdown",
   "id": "436b6cf4-90f2-4a3a-b943-26ccf3fefbde",
   "metadata": {},
   "source": [
    "# Question 13:"
   ]
  },
  {
   "cell_type": "markdown",
   "id": "d8d64baf-6349-4633-893b-82bf7d4d740b",
   "metadata": {},
   "source": [
    "Find out on which date highest and lowest death reported in “NIAGARA REGION” PHU.\n"
   ]
  },
  {
   "cell_type": "code",
   "execution_count": 353,
   "id": "394f8f66-d2c5-417e-b73a-1685d68e9ebe",
   "metadata": {},
   "outputs": [],
   "source": [
    "query2='SELECT  FILE_DATE, DEATHS \\\n",
    "FROM cases \\\n",
    "WHERE DEATHS == (SELECT MIN(DEATHS) FROM cases) AND PHU_NAME==\"NIAGARA REGION\"'"
   ]
  },
  {
   "cell_type": "code",
   "execution_count": 354,
   "id": "33cf4b4b-e9b7-44c9-b516-a846dfda2fcf",
   "metadata": {},
   "outputs": [
    {
     "name": "stdout",
     "output_type": "stream",
     "text": [
      "+---------+------+\n",
      "|FILE_DATE|DEATHS|\n",
      "+---------+------+\n",
      "|20200401 |0     |\n",
      "+---------+------+\n",
      "\n"
     ]
    }
   ],
   "source": [
    "df_q12 = sc.sql(query2)\n",
    "df_q12.show(30,False)"
   ]
  },
  {
   "cell_type": "code",
   "execution_count": 382,
   "id": "3018c784-41b6-40ef-85bb-bd517072a5f2",
   "metadata": {},
   "outputs": [],
   "source": [
    "query2='SELECT FILE_DATE, MAX(DEATHS) \\\n",
    "FROM cases WHERE PHU_NAME==\"NIAGARA REGION\" GROUP BY FILE_DATE ORDER BY MAX(DEATHS) DESC'"
   ]
  },
  {
   "cell_type": "code",
   "execution_count": 383,
   "id": "fc0b61f0-5fe6-494e-8ae6-7f0dfdd93f9e",
   "metadata": {},
   "outputs": [
    {
     "name": "stdout",
     "output_type": "stream",
     "text": [
      "+---------+-----------+\n",
      "|FILE_DATE|max(DEATHS)|\n",
      "+---------+-----------+\n",
      "|20210124 |257        |\n",
      "+---------+-----------+\n",
      "only showing top 1 row\n",
      "\n"
     ]
    }
   ],
   "source": [
    "df_q12 = sc.sql(query2)\n",
    "df_q12.show(1,False)"
   ]
  },
  {
   "cell_type": "markdown",
   "id": "55c7bbae-94e4-42ec-8700-3ed08e71635e",
   "metadata": {},
   "source": [
    "# Question 14:"
   ]
  },
  {
   "cell_type": "markdown",
   "id": "470fda50-f3c2-4a9f-8e41-7190a7101594",
   "metadata": {},
   "source": [
    "Find out total resolved cases of covid-19 in “NORTH BAY PARRY SOUND DISTRICT” in month\n",
    "May 2020 and Oct 2020"
   ]
  },
  {
   "cell_type": "code",
   "execution_count": 542,
   "id": "d57eeeab-0a9a-4f94-94ee-b9b2dd430b5e",
   "metadata": {},
   "outputs": [],
   "source": [
    "query2='SELECT DISTINCT PHU_NAME, SUM(RESOLVED_CASES) AS TOTAL_RESOLVED_CASES from cases where MONTH(FILE_DATE) IN (5,10) AND YEAR(FILE_DATE)=2020 group by PHU_NAME'\n"
   ]
  },
  {
   "cell_type": "code",
   "execution_count": 543,
   "id": "9e50a9b9-e61e-409c-bc13-9051ccd1ee1a",
   "metadata": {},
   "outputs": [
    {
     "name": "stdout",
     "output_type": "stream",
     "text": [
      "+---------------------------------------+--------------------+\n",
      "|PHU_NAME                               |TOTAL_RESOLVED_CASES|\n",
      "+---------------------------------------+--------------------+\n",
      "|CITY OF HAMILTON                       |52560               |\n",
      "|DURHAM REGION                          |95842               |\n",
      "|KINGSTON, FRONTENAC, LENNOX & ADDINGTON|6562                |\n",
      "|LEEDS, GRENVILLE AND LANARK DISTRICT   |18943               |\n",
      "|THUNDER BAY DISTRICT                   |5543                |\n",
      "|OXFORD ELGIN-ST.THOMAS                 |10182               |\n",
      "|GREY BRUCE                             |6857                |\n",
      "|TORONTO                                |749899              |\n",
      "|LAMBTON COUNTY                         |15367               |\n",
      "|NIAGARA REGION                         |48095               |\n",
      "|HALTON REGION                          |57470               |\n",
      "|SUDBURY AND DISTRICT                   |4964                |\n",
      "|NORTHWESTERN                           |2457                |\n",
      "|YORK REGION                            |184495              |\n",
      "|HALIBURTON, KAWARTHA, PINE RIDGE       |11055               |\n",
      "|ALGOMA DISTRICT                        |1571                |\n",
      "|PEEL REGION                            |375638              |\n",
      "|WINDSOR-ESSEX COUNTY                   |98345               |\n",
      "|WELLINGTON-DUFFERIN-GUELPH             |28370               |\n",
      "|SIMCOE MUSKOKA DISTRICT                |39867               |\n",
      "|HURON PERTH                            |5340                |\n",
      "|WATERLOO REGION                        |76057               |\n",
      "|CITY OF OTTAWA                         |183670              |\n",
      "|PETERBOROUGH COUNTY-CITY               |6019                |\n",
      "|CHATHAM-KENT                           |14082               |\n",
      "|MIDDLESEX-LONDON                       |39209               |\n",
      "|HASTINGS & PRINCE EDWARD COUNTIES      |2839                |\n",
      "|NORTH BAY PARRY SOUND DISTRICT         |1766                |\n",
      "|RENFREW COUNTY AND DISTRICT            |2499                |\n",
      "|PORCUPINE                              |3982                |\n",
      "+---------------------------------------+--------------------+\n",
      "only showing top 30 rows\n",
      "\n"
     ]
    }
   ],
   "source": [
    "df_q14 = sc.sql(query2)\n",
    "df_q14.show(30,False)"
   ]
  },
  {
   "cell_type": "markdown",
   "id": "cbe39d77-821f-4905-a30e-cdc2c20be72a",
   "metadata": {},
   "source": [
    "# Question 15:"
   ]
  },
  {
   "cell_type": "markdown",
   "id": "c7b95d9b-bb8b-47b7-a4d0-c2da1564a9be",
   "metadata": {},
   "source": [
    "Find out percentage of active cases in each PHU in year 2020."
   ]
  },
  {
   "cell_type": "code",
   "execution_count": 539,
   "id": "b83045c9-72a9-4aea-a8a3-ff02a7455d16",
   "metadata": {},
   "outputs": [],
   "source": [
    "#df_csv.select(to_date(\"FILE_DATE\", \"dd-MMM-yyyy\").alias(\"date\"))\n",
    "#df_csv=df_csv.withColumn(\"FILE_DATE\", f.to_date(CAST(FILE_DATE AS STRING(f.col(\"FILE_DATE\")))))\n",
    "query2='Select DISTINCT PHU_NAME, ROUND((SUM(ACTIVE_CASES)/(SUM(ACTIVE_CASES)+SUM(RESOLVED_CASES)))*100,2)  AS total_percentage FROM cases GROUP BY PHU_NAME'\n"
   ]
  },
  {
   "cell_type": "code",
   "execution_count": 531,
   "id": "573174f9-fbba-4ce3-8f49-0aaf918a68e8",
   "metadata": {},
   "outputs": [],
   "source": [
    "df_csv.createOrReplaceTempView(\"cases\")"
   ]
  },
  {
   "cell_type": "code",
   "execution_count": 532,
   "id": "b74d4ca9-7a57-4eb9-ac9d-63d9ff6cb149",
   "metadata": {},
   "outputs": [],
   "source": [
    "#query2='select * from cases '"
   ]
  },
  {
   "cell_type": "code",
   "execution_count": 540,
   "id": "674d83df-b2d3-4c59-94dd-1fa338af933f",
   "metadata": {},
   "outputs": [
    {
     "name": "stdout",
     "output_type": "stream",
     "text": [
      "+---------------------------------------+----------------+\n",
      "|PHU_NAME                               |total_percentage|\n",
      "+---------------------------------------+----------------+\n",
      "|CITY OF HAMILTON                       |12.92           |\n",
      "|DURHAM REGION                          |9.29            |\n",
      "|KINGSTON, FRONTENAC, LENNOX & ADDINGTON|9.2             |\n",
      "|LEEDS, GRENVILLE AND LANARK DISTRICT   |6.3             |\n",
      "|THUNDER BAY DISTRICT                   |12.46           |\n",
      "|OXFORD ELGIN-ST.THOMAS                 |14.95           |\n",
      "|GREY BRUCE                             |8.58            |\n",
      "|TORONTO                                |10.89           |\n",
      "|LAMBTON COUNTY                         |9.72            |\n",
      "|NIAGARA REGION                         |13.3            |\n",
      "|HALTON REGION                          |12.71           |\n",
      "|SUDBURY AND DISTRICT                   |10.32           |\n",
      "|NORTHWESTERN                           |8.78            |\n",
      "|YORK REGION                            |10.63           |\n",
      "|HALIBURTON, KAWARTHA, PINE RIDGE       |7.21            |\n",
      "|ALGOMA DISTRICT                        |10.77           |\n",
      "|PEEL REGION                            |12.6            |\n",
      "|WINDSOR-ESSEX COUNTY                   |12.4            |\n",
      "|WELLINGTON-DUFFERIN-GUELPH             |12.26           |\n",
      "|SIMCOE MUSKOKA DISTRICT                |11.96           |\n",
      "|HURON PERTH                            |12.75           |\n",
      "|WATERLOO REGION                        |9.34            |\n",
      "|CITY OF OTTAWA                         |9.45            |\n",
      "|PETERBOROUGH COUNTY-CITY               |9.32            |\n",
      "|MIDDLESEX-LONDON                       |15.62           |\n",
      "|CHATHAM-KENT                           |7.97            |\n",
      "|HASTINGS & PRINCE EDWARD COUNTIES      |10.8            |\n",
      "|NORTH BAY PARRY SOUND DISTRICT         |7.91            |\n",
      "|RENFREW COUNTY AND DISTRICT            |9.24            |\n",
      "|PORCUPINE                              |7.06            |\n",
      "+---------------------------------------+----------------+\n",
      "only showing top 30 rows\n",
      "\n"
     ]
    }
   ],
   "source": [
    "df_q12 = sc.sql(query2)\n",
    "df_q12.show(30,False)"
   ]
  },
  {
   "cell_type": "code",
   "execution_count": 541,
   "id": "a5bd35ed-14b9-4c27-99bb-8c864fba9808",
   "metadata": {},
   "outputs": [
    {
     "name": "stdout",
     "output_type": "stream",
     "text": [
      "+----------+---------------------------------------+-------+------------+--------------+------+\n",
      "|FILE_DATE |PHU_NAME                               |PHU_NUM|ACTIVE_CASES|RESOLVED_CASES|DEATHS|\n",
      "+----------+---------------------------------------+-------+------------+--------------+------+\n",
      "|2020-04-10|HALIBURTON, KAWARTHA, PINE RIDGE       |2235   |23          |69            |18    |\n",
      "|2020-04-10|HALTON REGION                          |2236   |112         |137           |9     |\n",
      "|2020-04-10|HASTINGS & PRINCE EDWARD COUNTIES      |2238   |12          |11            |1     |\n",
      "|2020-04-10|HURON PERTH                            |5183   |20          |8             |1     |\n",
      "|2020-04-10|KINGSTON, FRONTENAC, LENNOX & ADDINGTON|2241   |13          |39            |0     |\n",
      "|2020-04-10|LAMBTON COUNTY                         |2242   |65          |26            |9     |\n",
      "|2020-04-10|LEEDS, GRENVILLE AND LANARK DISTRICT   |2243   |102         |36            |8     |\n",
      "|2020-04-10|MIDDLESEX-LONDON                       |2244   |109         |53            |8     |\n",
      "|2020-04-10|NIAGARA REGION                         |2246   |91          |95            |12    |\n",
      "|2020-04-10|NORTH BAY PARRY SOUND DISTRICT         |2247   |2           |4             |0     |\n",
      "|2020-04-10|NORTHWESTERN                           |2249   |1           |8             |0     |\n",
      "|2020-04-10|OXFORD ELGIN-ST.THOMAS                 |4913   |13          |13            |2     |\n",
      "|2020-04-10|PEEL REGION                            |2253   |575         |222           |14    |\n",
      "|2020-04-10|PETERBOROUGH COUNTY-CITY               |2255   |14          |36            |0     |\n",
      "|2020-04-10|PORCUPINE                              |2256   |21          |15            |2     |\n",
      "|2020-04-10|RENFREW COUNTY AND DISTRICT            |2257   |5           |6             |1     |\n",
      "|2020-04-10|SIMCOE MUSKOKA DISTRICT                |2260   |64          |51            |5     |\n",
      "|2020-04-10|SUDBURY AND DISTRICT                   |2261   |8           |19            |1     |\n",
      "|2020-04-10|THUNDER BAY DISTRICT                   |2262   |15          |7             |0     |\n",
      "|2020-04-10|TIMISKAMING                            |2263   |4           |3             |0     |\n",
      "+----------+---------------------------------------+-------+------------+--------------+------+\n",
      "only showing top 20 rows\n",
      "\n"
     ]
    }
   ],
   "source": [
    "df_csv.show(20,False)"
   ]
  },
  {
   "cell_type": "code",
   "execution_count": null,
   "id": "1888d61d-da8b-4773-97fd-ab8bda262429",
   "metadata": {},
   "outputs": [],
   "source": []
  },
  {
   "cell_type": "markdown",
   "id": "6ad3ee95-1775-441e-af32-07ed9d607fce",
   "metadata": {},
   "source": []
  }
 ],
 "metadata": {
  "kernelspec": {
   "display_name": "Python 3 (ipykernel)",
   "language": "python",
   "name": "python3"
  },
  "language_info": {
   "codemirror_mode": {
    "name": "ipython",
    "version": 3
   },
   "file_extension": ".py",
   "mimetype": "text/x-python",
   "name": "python",
   "nbconvert_exporter": "python",
   "pygments_lexer": "ipython3",
   "version": "3.8.0"
  }
 },
 "nbformat": 4,
 "nbformat_minor": 5
}
